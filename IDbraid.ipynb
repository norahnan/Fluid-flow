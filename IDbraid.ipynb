{
 "cells": [
  {
   "cell_type": "code",
   "execution_count": 1,
   "metadata": {
    "collapsed": true
   },
   "outputs": [],
   "source": [
    "import sys\n",
    "#sys.path.append(\"/Volumes/SmithLab/SmithLab/Modules\")\n",
    "import BraidFuncM as BF\n",
    "import Functions as Func\n",
    "import Braid as B\n",
    "import matplotlib.pyplot as plt\n",
    "import numpy as np\n",
    "get_ipython().magic('matplotlib inline')\n",
    "import math\n",
    "import cmath\n",
    "import scipy.io as sio\n",
    "import itertools"
   ]
  },
  {
   "cell_type": "code",
   "execution_count": 2,
   "metadata": {
    "collapsed": true
   },
   "outputs": [],
   "source": [
    "U_b = 0.06266*60*60/1000 #This is a characteristic velocity measured in Mm/hour (converted from km/s)\n",
    "r0 = 6.371   #The mean radius of Earth in Mm\n",
    "T_tot = math.pi*r0/(0.1*U_b) "
   ]
  },
  {
   "cell_type": "code",
   "execution_count": null,
   "metadata": {
    "collapsed": true
   },
   "outputs": [],
   "source": [
    "def getAlg(listW):\n",
    "    return BF.GeoToAlgBraid(listW)"
   ]
  },
  {
   "cell_type": "code",
   "execution_count": 4,
   "metadata": {
    "collapsed": true
   },
   "outputs": [],
   "source": [
    "def getEnt(filename,period,PON):\n",
    "    n = period\n",
    "    time = T_tot*n\n",
    "    wholeList = BF.openN(filename)\n",
    "    BraidlistP1Sall = BF.GeoToAlgBraid(filename)\n",
    "    BraidP1Sall = B.Braid(PON,BraidlistP1Sall)\n",
    "    enT = BraidP1Sall.DynTopEnt()\n",
    "    TotalEntro = enT/time\n",
    "    return TotalEntro"
   ]
  },
  {
   "cell_type": "code",
   "execution_count": 6,
   "metadata": {
    "collapsed": true
   },
   "outputs": [],
   "source": [
    "def findindex(num,total):\n",
    "    stuff = list(range(total))\n",
    "    indices = []\n",
    "    for subset in itertools.combinations(stuff,num):\n",
    "        indices.append(list(subset))\n",
    "    return indices"
   ]
  },
  {
   "cell_type": "code",
   "execution_count": 7,
   "metadata": {
    "collapsed": true
   },
   "outputs": [],
   "source": [
    "#use the list  \n",
    "def getEntro(listW,filename):\n",
    "    Braidlist = BF.GeoToAlgBraid(filename,listW)\n",
    "    Braid = B.Braid(len(listW),Braidlist)\n",
    "    #entriNumber = Braid.DynTopEnt()\n",
    "    #print(\"this is entropy: \" + entriNumber)\n",
    "    return Braid.DynTopEnt()"
   ]
  },
  {
   "cell_type": "code",
   "execution_count": 1,
   "metadata": {
    "collapsed": true
   },
   "outputs": [],
   "source": [
    "#get the highest topological entropy from these groups of indices\n",
    "def getBestValue(indices, listW,filename):\n",
    "    listEn = []\n",
    "    for x in range(0,len(indices)):\n",
    "        listEn.append(getEntro(indices[x],filename))\n",
    "    return max(listEn)\n"
   ]
  },
  {
   "cell_type": "code",
   "execution_count": null,
   "metadata": {
    "collapsed": true
   },
   "outputs": [],
   "source": [
    "#get the actual combination of the highest ent indices\n",
    "def getBestIndex(indices, listW, filename):\n",
    "    listEn = []\n",
    "    for x in range(0,len(indices)):\n",
    "        listEn.append(getEntro(indices[x],filename))\n",
    "    return indices[listEn.index(max(listEn))]"
   ]
  }
 ],
 "metadata": {
  "kernelspec": {
   "display_name": "Python 3",
   "language": "python",
   "name": "python3"
  },
  "language_info": {
   "codemirror_mode": {
    "name": "ipython",
    "version": 3
   },
   "file_extension": ".py",
   "mimetype": "text/x-python",
   "name": "python",
   "nbconvert_exporter": "python",
   "pygments_lexer": "ipython3",
   "version": "3.6.1"
  }
 },
 "nbformat": 4,
 "nbformat_minor": 1
}
