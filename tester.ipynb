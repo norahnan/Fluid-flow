{
 "cells": [
  {
   "cell_type": "code",
   "execution_count": 1,
   "metadata": {},
   "outputs": [
    {
     "data": {
      "text/plain": [
       "-8*cos(x) + 2*cos(2*x) + 2*pi**2/3"
      ]
     },
     "execution_count": 1,
     "metadata": {},
     "output_type": "execute_result"
    }
   ],
   "source": [
    "from sympy import fourier_series, pi\n",
    "from sympy.abc import x\n",
    "s = fourier_series(x**2, (x, -pi, pi))\n",
    "s.scale(2).truncate()"
   ]
  },
  {
   "cell_type": "code",
   "execution_count": 16,
   "metadata": {},
   "outputs": [
    {
     "name": "stdout",
     "output_type": "stream",
     "text": [
      "[0]\n"
     ]
    }
   ],
   "source": [
    "from sklearn.ensemble import RandomForestClassifier\n",
    "X = [[0, 0,5], [1, 1,20]]\n",
    "y = [0, 1]\n",
    "clf = RandomForestClassifier(n_estimators=10)\n",
    "clf = clf.fit(X, y)\n",
    "print(clf.predict([[0.7, 0.9,9]]))"
   ]
  },
  {
   "cell_type": "code",
   "execution_count": null,
   "metadata": {},
   "outputs": [],
   "source": [
    "import numpy as np\n",
    "import random\n",
    "the_list = set(np.arange(1000000000))\n",
    "a = random.sample(the_list, 50000000)\n",
    "a.sort()\n",
    "print( a)"
   ]
  },
  {
   "cell_type": "code",
   "execution_count": 25,
   "metadata": {},
   "outputs": [
    {
     "ename": "ValueError",
     "evalue": "Number of features of the model must match the input. Model n_features is 3 and input n_features is 2 ",
     "output_type": "error",
     "traceback": [
      "\u001b[0;31m---------------------------------------------------------------------------\u001b[0m",
      "\u001b[0;31mValueError\u001b[0m                                Traceback (most recent call last)",
      "\u001b[0;32m<ipython-input-25-3d74597a4dad>\u001b[0m in \u001b[0;36m<module>\u001b[0;34m()\u001b[0m\n\u001b[1;32m      3\u001b[0m \u001b[0mregr\u001b[0m \u001b[0;34m=\u001b[0m \u001b[0mRandomForestRegressor\u001b[0m\u001b[0;34m(\u001b[0m\u001b[0mmax_depth\u001b[0m\u001b[0;34m=\u001b[0m\u001b[0;36m10\u001b[0m\u001b[0;34m,\u001b[0m \u001b[0mrandom_state\u001b[0m\u001b[0;34m=\u001b[0m\u001b[0;36m0\u001b[0m\u001b[0;34m)\u001b[0m\u001b[0;34m\u001b[0m\u001b[0m\n\u001b[1;32m      4\u001b[0m \u001b[0mregr\u001b[0m\u001b[0;34m.\u001b[0m\u001b[0mfit\u001b[0m\u001b[0;34m(\u001b[0m\u001b[0mX\u001b[0m\u001b[0;34m,\u001b[0m \u001b[0my\u001b[0m\u001b[0;34m)\u001b[0m\u001b[0;34m\u001b[0m\u001b[0m\n\u001b[0;32m----> 5\u001b[0;31m \u001b[0mprint\u001b[0m\u001b[0;34m(\u001b[0m\u001b[0mregr\u001b[0m\u001b[0;34m.\u001b[0m\u001b[0mpredict\u001b[0m\u001b[0;34m(\u001b[0m\u001b[0;34m[\u001b[0m\u001b[0;34m[\u001b[0m\u001b[0;36m0.3\u001b[0m\u001b[0;34m,\u001b[0m\u001b[0;36m0\u001b[0m\u001b[0;34m]\u001b[0m\u001b[0;34m]\u001b[0m\u001b[0;34m)\u001b[0m\u001b[0;34m)\u001b[0m\u001b[0;34m\u001b[0m\u001b[0m\n\u001b[0m",
      "\u001b[0;32m/Users/mhcuser/anaconda/lib/python3.6/site-packages/sklearn/ensemble/forest.py\u001b[0m in \u001b[0;36mpredict\u001b[0;34m(self, X)\u001b[0m\n\u001b[1;32m    683\u001b[0m         \"\"\"\n\u001b[1;32m    684\u001b[0m         \u001b[0;31m# Check data\u001b[0m\u001b[0;34m\u001b[0m\u001b[0;34m\u001b[0m\u001b[0m\n\u001b[0;32m--> 685\u001b[0;31m         \u001b[0mX\u001b[0m \u001b[0;34m=\u001b[0m \u001b[0mself\u001b[0m\u001b[0;34m.\u001b[0m\u001b[0m_validate_X_predict\u001b[0m\u001b[0;34m(\u001b[0m\u001b[0mX\u001b[0m\u001b[0;34m)\u001b[0m\u001b[0;34m\u001b[0m\u001b[0m\n\u001b[0m\u001b[1;32m    686\u001b[0m \u001b[0;34m\u001b[0m\u001b[0m\n\u001b[1;32m    687\u001b[0m         \u001b[0;31m# Assign chunk of trees to jobs\u001b[0m\u001b[0;34m\u001b[0m\u001b[0;34m\u001b[0m\u001b[0m\n",
      "\u001b[0;32m/Users/mhcuser/anaconda/lib/python3.6/site-packages/sklearn/ensemble/forest.py\u001b[0m in \u001b[0;36m_validate_X_predict\u001b[0;34m(self, X)\u001b[0m\n\u001b[1;32m    353\u001b[0m                                  \"call `fit` before exploiting the model.\")\n\u001b[1;32m    354\u001b[0m \u001b[0;34m\u001b[0m\u001b[0m\n\u001b[0;32m--> 355\u001b[0;31m         \u001b[0;32mreturn\u001b[0m \u001b[0mself\u001b[0m\u001b[0;34m.\u001b[0m\u001b[0mestimators_\u001b[0m\u001b[0;34m[\u001b[0m\u001b[0;36m0\u001b[0m\u001b[0;34m]\u001b[0m\u001b[0;34m.\u001b[0m\u001b[0m_validate_X_predict\u001b[0m\u001b[0;34m(\u001b[0m\u001b[0mX\u001b[0m\u001b[0;34m,\u001b[0m \u001b[0mcheck_input\u001b[0m\u001b[0;34m=\u001b[0m\u001b[0;32mTrue\u001b[0m\u001b[0;34m)\u001b[0m\u001b[0;34m\u001b[0m\u001b[0m\n\u001b[0m\u001b[1;32m    356\u001b[0m \u001b[0;34m\u001b[0m\u001b[0m\n\u001b[1;32m    357\u001b[0m     \u001b[0;34m@\u001b[0m\u001b[0mproperty\u001b[0m\u001b[0;34m\u001b[0m\u001b[0m\n",
      "\u001b[0;32m/Users/mhcuser/anaconda/lib/python3.6/site-packages/sklearn/tree/tree.py\u001b[0m in \u001b[0;36m_validate_X_predict\u001b[0;34m(self, X, check_input)\u001b[0m\n\u001b[1;32m    374\u001b[0m                              \u001b[0;34m\"match the input. Model n_features is %s and \"\u001b[0m\u001b[0;34m\u001b[0m\u001b[0m\n\u001b[1;32m    375\u001b[0m                              \u001b[0;34m\"input n_features is %s \"\u001b[0m\u001b[0;34m\u001b[0m\u001b[0m\n\u001b[0;32m--> 376\u001b[0;31m                              % (self.n_features_, n_features))\n\u001b[0m\u001b[1;32m    377\u001b[0m \u001b[0;34m\u001b[0m\u001b[0m\n\u001b[1;32m    378\u001b[0m         \u001b[0;32mreturn\u001b[0m \u001b[0mX\u001b[0m\u001b[0;34m\u001b[0m\u001b[0m\n",
      "\u001b[0;31mValueError\u001b[0m: Number of features of the model must match the input. Model n_features is 3 and input n_features is 2 "
     ]
    }
   ],
   "source": [
    "from sklearn.ensemble import RandomForestRegressor\n",
    "from sklearn.datasets import make_regression\n",
    "regr = RandomForestRegressor(max_depth=10, random_state=0)\n",
    "regr.fit(X, y)\n",
    "print(regr.predict([[0.3,0]]))"
   ]
  },
  {
   "cell_type": "code",
   "execution_count": 26,
   "metadata": {},
   "outputs": [
    {
     "ename": "NameError",
     "evalue": "name 'fourier_series' is not defined",
     "output_type": "error",
     "traceback": [
      "\u001b[0;31m---------------------------------------------------------------------------\u001b[0m",
      "\u001b[0;31mNameError\u001b[0m                                 Traceback (most recent call last)",
      "\u001b[0;32m<ipython-input-26-4eb696d35dc0>\u001b[0m in \u001b[0;36m<module>\u001b[0;34m()\u001b[0m\n\u001b[0;32m----> 1\u001b[0;31m \u001b[0ms\u001b[0m \u001b[0;34m=\u001b[0m \u001b[0mfourier_series\u001b[0m\u001b[0;34m(\u001b[0m\u001b[0mx\u001b[0m\u001b[0;34m**\u001b[0m\u001b[0;36m2\u001b[0m \u001b[0;34m+\u001b[0m \u001b[0;36m2\u001b[0m\u001b[0;34m*\u001b[0m\u001b[0mx\u001b[0m\u001b[0;34m,\u001b[0m \u001b[0;34m(\u001b[0m\u001b[0mx\u001b[0m\u001b[0;34m,\u001b[0m \u001b[0;34m-\u001b[0m\u001b[0mpi\u001b[0m\u001b[0;34m,\u001b[0m \u001b[0mpi\u001b[0m\u001b[0;34m)\u001b[0m\u001b[0;34m)\u001b[0m\u001b[0;34m\u001b[0m\u001b[0m\n\u001b[0m\u001b[1;32m      2\u001b[0m \u001b[0ms\u001b[0m\u001b[0;34m.\u001b[0m\u001b[0mtruncate\u001b[0m\u001b[0;34m(\u001b[0m\u001b[0mn\u001b[0m\u001b[0;34m=\u001b[0m\u001b[0;36m3\u001b[0m\u001b[0;34m)\u001b[0m\u001b[0;34m\u001b[0m\u001b[0m\n",
      "\u001b[0;31mNameError\u001b[0m: name 'fourier_series' is not defined"
     ]
    }
   ],
   "source": [
    "s = fourier_series(x**2 + 2*x, (x, -pi, pi))\n",
    "s.truncate(n=3)"
   ]
  },
  {
   "cell_type": "code",
   "execution_count": 14,
   "metadata": {
    "collapsed": true
   },
   "outputs": [],
   "source": [
    "def writesinglelist(listNum, name):\n",
    "    f = open(name, \"w\");\n",
    "    #f.write()\n",
    "    knx = str(listNum[0])\n",
    "    for x in range(1,len(listNum)):\n",
    "        knx = knx+'\\n'\n",
    "        knx = knx+str(listNum[x])\n",
    "\n",
    "    f.write(knx)\n",
    "    \n",
    "writesinglelist([1,2,3,4], \"test.txt\")"
   ]
  },
  {
   "cell_type": "code",
   "execution_count": 7,
   "metadata": {},
   "outputs": [
    {
     "name": "stdout",
     "output_type": "stream",
     "text": [
      "3.6.1 |Anaconda 4.4.0 (x86_64)| (default, May 11 2017, 13:04:09) \n",
      "[GCC 4.2.1 Compatible Apple LLVM 6.0 (clang-600.0.57)]\n"
     ]
    }
   ],
   "source": [
    "import sys\n",
    "print (sys.version)"
   ]
  },
  {
   "cell_type": "code",
   "execution_count": 11,
   "metadata": {},
   "outputs": [
    {
     "name": "stdout",
     "output_type": "stream",
     "text": [
      "[2.0, 2.0]\n"
     ]
    },
    {
     "data": {
      "text/plain": [
       "array([ 0.  ,  0.05,  0.1 ,  0.15,  0.2 ,  0.25,  0.3 ,  0.35,  0.4 ,\n",
       "        0.45,  0.5 ,  0.55,  0.6 ,  0.65,  0.7 ,  0.75,  0.8 ,  0.85,\n",
       "        0.9 ,  0.95])"
      ]
     },
     "execution_count": 11,
     "metadata": {},
     "output_type": "execute_result"
    }
   ],
   "source": [
    "import math\n",
    "import numpy as np\n",
    "#get\n",
    "def getCfromA(init, ang, r):\n",
    "    x = init[0] + math.cos(ang*math.pi)*r\n",
    "    y = init[1] + math.sin(ang*math.pi)*r\n",
    "    return [x,y]\n",
    "\n",
    "print(getCfromA([1,1], 0.25, 2**(1/2)))\n",
    "np.arange(0, 1, 0.05)"
   ]
  },
  {
   "cell_type": "code",
   "execution_count": 6,
   "metadata": {},
   "outputs": [
    {
     "data": {
      "image/png": "[encoded data removed]",
      "text/plain": [
       "<matplotlib.figure.Figure at 0x10ce40f60>"
      ]
     },
     "metadata": {},
     "output_type": "display_data"
    }
   ],
   "source": [
    "import math\n",
    "import numpy as np\n",
    "import matplotlib.pyplot as plt\n",
    "plt.plot([-math.tan(math.pi*0.25),0,math.tan(math.pi*0.25)])\n",
    "plt.show()"
   ]
  },
  {
   "cell_type": "code",
   "execution_count": 8,
   "metadata": {},
   "outputs": [
    {
     "data": {
      "text/plain": [
       "array([ 0.   ,  0.125,  0.25 ,  0.375, -0.5  , -0.375, -0.25 , -0.125])"
      ]
     },
     "execution_count": 8,
     "metadata": {},
     "output_type": "execute_result"
    }
   ],
   "source": [
    "np.fft.fftfreq(8)"
   ]
  },
  {
   "cell_type": "code",
   "execution_count": 10,
   "metadata": {},
   "outputs": [
    {
     "name": "stdout",
     "output_type": "stream",
     "text": [
      "[  0.00000000e+00   2.35114101e+00   1.38777878e-16   1.99840144e-15\n",
      "   0.00000000e+00   1.55431223e-15  -1.38777878e-16  -2.35114101e+00]\n",
      "0.0\n"
     ]
    }
   ],
   "source": [
    "import math\n",
    "import numpy as np\n",
    "from sympy import fourier_series, pi\n",
    "array = np.cos(2 * np.pi * np.array([x for x in range(0,8) ]) / 8 +np.pi/5)\n",
    "a = np.fft.fft(array)\n",
    "img = a.imag\n",
    "b = np.abs(img)\n",
    "#print(a)\n",
    "#print(b)\n",
    "\n",
    "sumi = sum(img)*10000000000000000000000\n",
    "print(img)\n",
    "print(sumi)"
   ]
  },
  {
   "cell_type": "code",
   "execution_count": 13,
   "metadata": {},
   "outputs": [
    {
     "name": "stdout",
     "output_type": "stream",
     "text": [
      "[  1.00000000e+00 +0.00000000e+00j   7.07106781e-01 +7.07106781e-01j\n",
      "   6.12323400e-17 +1.00000000e+00j  -7.07106781e-01 +7.07106781e-01j\n",
      "  -1.00000000e+00 +1.22464680e-16j  -7.07106781e-01 -7.07106781e-01j\n",
      "  -1.83697020e-16 -1.00000000e+00j   7.07106781e-01 -7.07106781e-01j]\n",
      "(6.12323399574e-17+1j)\n"
     ]
    }
   ],
   "source": [
    "temp = np.exp(2j * np.pi * np.arange(8) / 8)\n",
    "print(temp)\n",
    "print(temp[2])"
   ]
  },
  {
   "cell_type": "code",
   "execution_count": 7,
   "metadata": {
    "collapsed": true
   },
   "outputs": [],
   "source": [
    "import sys\n",
    "f = open(\"testtest.txt\", 'a')\n",
    "#f = open(\"funfun.txt\", \"w\");\n",
    "\n",
    "f.write(\"hello world\")\n",
    "f.close()"
   ]
  },
  {
   "cell_type": "code",
   "execution_count": 6,
   "metadata": {},
   "outputs": [
    {
     "name": "stdout",
     "output_type": "stream",
     "text": [
      "<2.000000, -1.000000, 0.000000>\n"
     ]
    }
   ],
   "source": [
    "from vpython import *\n",
    "\n",
    "v1 = vector(1,2,0)\n",
    "v2 = vector(2,1,0)\n",
    "ang = cross(v1, v2)\n",
    "m = v1 + v2\n",
    "#rotate(A,theta,B)\n",
    "v3 = rotate(v1, -pi/2)\n",
    "v4 = rotate(v1, 1/2)\n",
    "\n",
    "\n",
    "print(v3)"
   ]
  },
  {
   "cell_type": "code",
   "execution_count": 4,
   "metadata": {},
   "outputs": [
    {
     "ename": "TypeError",
     "evalue": "'vpython.cyvector.vector' object is not iterable",
     "output_type": "error",
     "traceback": [
      "\u001b[0;31m---------------------------------------------------------------------------\u001b[0m",
      "\u001b[0;31mTypeError\u001b[0m                                 Traceback (most recent call last)",
      "\u001b[0;32m<ipython-input-4-029bbb8792a9>\u001b[0m in \u001b[0;36m<module>\u001b[0;34m()\u001b[0m\n\u001b[0;32m----> 1\u001b[0;31m \u001b[0mprint\u001b[0m\u001b[0;34m(\u001b[0m\u001b[0mtuple\u001b[0m\u001b[0;34m(\u001b[0m\u001b[0mv3\u001b[0m\u001b[0;34m)\u001b[0m\u001b[0;34m)\u001b[0m\u001b[0;34m\u001b[0m\u001b[0m\n\u001b[0m",
      "\u001b[0;31mTypeError\u001b[0m: 'vpython.cyvector.vector' object is not iterable"
     ]
    }
   ],
   "source": [
    "print(v3)"
   ]
  },
  {
   "cell_type": "code",
   "execution_count": null,
   "metadata": {
    "collapsed": true
   },
   "outputs": [],
   "source": [
    "#imports\n",
    "import math\n",
    "# This line configures matplotlib to show figures embedded in the notebook, \n",
    "# instead of opening a new window for each figure. More about that later. \n",
    "# If you are using an old version of IPython, try using '%pylab inline' instead.\n",
    "%matplotlib inline\n",
    "from pylab import *\n",
    "import matplotlib\n",
    "import matplotlib.pyplot as plt\n",
    "import numpy as np\n",
    "\n",
    "\n",
    "from matplotlib import pyplot as PLT\n",
    "from matplotlib import cm as CM\n",
    "from matplotlib import mlab as ML\n",
    "import numpy as NP\n",
    "\n",
    "#get the vector functions\n",
    "from vpython import *\n",
    "\n",
    "import PeriodicOrbits as PO\n",
    "import IDbraid as IDB\n",
    "import TestJet as TJ \n",
    "import BraidFuncM as BF\n",
    "\n",
    "#the other to\n",
    "#number of periods\n",
    "n=1  \n",
    "\n",
    "#global parameters for the Bickly Jet (units will all be in Mm,hours)\n",
    "U_b = 0.06266*60*60/1000 #This is a characteristic velocity measured in Mm/hour (converted from km/s)\n",
    "L_b = 1.770  #This is a characteristic length (in Mm)\n",
    "r0 = 6.371   #The mean radius of Earth in Mm\n",
    "k_1 = 2/r0   #the Rossby wave number k_1\n",
    "k_2 = 4/r0   #the Rossby wave number k_2\n",
    "k_3 = 6/r0   #the Rossby wave number k_3\n",
    "#These wavenumbers are taken for a lattitude of -pi/3 (south from the equator ... -pi/2 would be south pole)\n",
    "k_b = [k_1,k_2,k_3]  #the Rossby wave numbers [k_1,k_2,k_3]\n",
    "c_3 = 0.4*U_b\n",
    "c_2 = 0.2*U_b\n",
    "#c_1 = c_3 + ((math.sqrt(5)-1)/2)*(k_b[2]/k_b[1])*(c_2-c_3)\n",
    "c_1 = 0.3*U_b\n",
    "c_b = [c_1,c_2,c_3]   #The Rossby wave speeds\n",
    "eps_1 = 0.075   #the 1st Rossby wave amplitude\n",
    "eps_2 = 0.4     #the 2nd Rossby wave amplitude\n",
    "eps_3 = 0.3     #the 3st Rossby wave amplitude\n",
    "eps_b = [eps_1,eps_2,eps_3]   #The Rossby wave amplitudes\n",
    "paramsPhys = [U_b,L_b,k_b,c_b,eps_b]  #just repackaging the parameters to pass into the various functions\n",
    "\n",
    "\n",
    "#Computational Parameters 3090\n",
    "Nx = 360   #the number of initial columns to have along the x-direction\n",
    "Ny = 120   #The number of initial rows to have along the y-direction\n",
    "gridsize = [Nx, Ny]\n",
    "r0 = 6.371\n",
    "x_l = 0   #Rectangular Domain, x-range left (in Mm)\n",
    "x_r = math.pi*r0   #Rectangular Domain, x-range right (in Mm) ... this works out to be about 20 Mm\n",
    "y_b = -3   #Rectangular Domain, y-range bottom (in Mm)\n",
    "y_t = 3   #Rectangular Domain, y-range top (in Mm)\n",
    "\n",
    "\n",
    "#The total period over which the velocity field repeats (in time)\n",
    "T_tot = math.pi*r0/(0.1*U_b) \n",
    "T_i = 0  #Starting time\n",
    "time = 1000\n",
    "T_num = time*n #The number of time-steps to take (will use equal time-step evolution for advected particles)\n",
    "paramsComp = [T_i,T_tot,time]\n",
    "\n",
    "\n",
    "#tranformational parameters\n",
    "R_offset = 6  #to add to each y-value\n",
    "xmult = 2/r0  #to multiply each x value by\n",
    "paramstrans = [R_offset,xmult,r0]  #just repackaging the parameters\n",
    "\n",
    "#bound together\n",
    "paramA = [paramsPhys,paramsComp,paramstrans,n]\n",
    "\n",
    "\n",
    "#other parameters\n",
    "boundR = 0.4\n",
    "radius = 0.00001\n",
    "overalltime = T_tot*n\n",
    "numRing = 150\n",
    "\n",
    "#open the file\n",
    "fileName = \"jetPO1_360120.txt\"\n",
    "wholeList = BF.openN(fileName)\n",
    "print(len(wholeList[4]))\n",
    "numPO = len(wholeList[4])//2"
   ]
  },
  {
   "cell_type": "code",
   "execution_count": 4,
   "metadata": {},
   "outputs": [
    {
     "name": "stdout",
     "output_type": "stream",
     "text": [
      "510\n"
     ]
    }
   ],
   "source": [
    "test = \"-1.22410586363 -2.83592103896 1.98105668972 0.948410204464 0.184833464156 -0.649780850079 2.04695271159 2.16065038577 1.6780035592 3.13926582527 0.686635796438 -2.08555712144 1.09710085635 1.95671957829 3.25303503287 3.23489952538 -3.23916549145 -3.2384508772 -2.16583762395 -1.44745792793 -3.15034389977 3.4254125688 3.22313892638 -0.764695539038 0.874309457197 -3.90619998003 3.02451280259 3.06097970465 3.68319152766 -0.841064138974 3.38982278696 3.65390758035 -1.02403090585 -3.72867965217 -0.518208309907 -0.329715939842 -3.9682302974 3.26729624808 -2.50936147427 -3.0322089248 -3.38019637464 4.14861263845 3.14063648644 -3.3368535159 -3.24788106936 4.17034569597 3.70859331991 -4.1187073269 -3.57112705353 4.4800955111 -3.85216735367 1.59848130322 1.08605098511 -3.67984593704 -4.1784279638 1.67523134451 2.18323746438 4.56101159037 -2.67885763288 2.22992635397 -2.44456518744 2.76455712158 0.288449242119 -2.03673268297 -2.5041991583 0.856072027537 4.69147782607 2.53933853725 0.122582715348 -3.85735340245 0.704515380064 3.10306264115 3.19220345832 -0.0428394968556 -4.14255833798 -2.26297095808 0.547870161269 2.7961022616 3.29940802767 -2.45304521104 2.8058241195 -3.99703651476 1.72222997509 1.1454864146 -4.26017149955 -2.80779577088 1.87230653942 2.44221116816 -0.974108241488 -3.14068444857 -2.59396724431 -0.306167504564 4.9143915339 -2.62207829598 -5.18172863748 -5.1496359694 -4.31002015778 0.262230358738 1.03271305313 3.5625991477 0.0830072608262 -3.0926803967 -4.04441167728 0.848593748163 4.28927962968 2.88121335139 3.59216239849 3.9482628403 -5.27927325905 4.57404425268 4.84433954298 5.25391446181 -1.68945559729 -0.977924120657 -5.58501129154 -5.54361102623 4.20309989026 -5.59962623121 -5.51900508744 4.88450352363 -1.00208179348 -0.215520275889 -5.60187790499 -5.4751017737 5.53227578627 5.9853359799 4.50575292217 -2.59054958673 -1.87101213175 5.5937036716 5.43066687277 -5.58077108439 -5.39029276761 5.7986711285 5.71689309742 -5.56280563109 -5.34187949641 5.74175852018 4.68815963192 -3.00545989495 -2.2622866945 5.34108492742 -5.44309048085 -5.1143070488 -5.10246824413 -4.61022020259 -4.75130344944 -4.26117781373 -3.9837596061 5.09484577749 5.81146482282 -6.38446125212 -6.32348965284 -6.37885455134 -6.25951572674 -6.36603716608 -6.21510733749 5.11858552509 3.38272314821 -6.33871961249 -6.14706914888 5.77829685403 -6.30094480873 -6.06942379278 -6.24446977907 -5.96652380658 -0.331100395114 -3.51922759649 -6.68777653901 -6.63737608909 -2.80994004246 5.43004145104 -6.11422406682 -6.67064558242 -6.5554618036 -5.76298801624 6.11138453463 -0.913620393498 -6.01638507322 -6.63763076082 -6.47702261515 -5.61279006513 1.29736631655 1.32645700993 -4.19768708984 -3.46931277373 -4.58097021568 -5.62542171444 -5.02521394111 -4.01263946835 6.55062568421 6.93439173963 0.45124385344 5.43374924108 0.177748332939 3.99799435735 4.74464739606 -7.31854191692 5.18346030648 0.431008893849 3.64334673791 3.43064664368 0.678890552155 1.58337828264 0.967234832145 -7.31963496169 7.17744725262 7.45924325994 1.32358691336 1.27687138671 3.59624586641 7.46654719155 3.55738226392 1.16870059997 -2.10122627178 -2.70152150985 1.49597647233 7.61126099084 1.31819060348 -7.18505564446 1.4227832631 1.78516411356 6.16464266787 1.1060966602 1.29620362567 -1.74457949528 1.06372314055 -6.91334781367 1.66293037845 1.5905154812 -1.89629764465 1.12126695016 3.36840723712 -0.920968084928 -6.77510453434 2.4720835875 3.51679884043 6.81798743254 -7.96379331494 -7.90470625729 -8.04045320348 -8.15447902022 -7.92736084947 -5.57885923523 7.42851934434 -3.61544512589 2.6069264667 8.24511093102 7.23048504588 -3.36331115341 8.29141491825 -2.9264762467 8.12630463888 3.55910871203 7.57263242703 2.79292408751 0.816357928854 2.24755047265 2.66161555955 3.01259644267 3.07580851688 -2.24663221392 2.56850328559 -2.75344683093 -0.00843385341463 3.09220379586 2.49977424203 -3.07239141519 -2.52909588081 -0.427738963015 0.410642911395 0.131837709907 -0.185866354064 -2.22146620515 -2.77173596916 1.25840446786 -0.0107419108519 0.918596842628 3.95864737272 -3.60043520711 -0.153004307458 -2.13026325289 -2.3209355137 -0.957520270142 -3.68081616338 -1.7871810252 -1.35714701696 3.71367342139 2.21653726867 -3.91835988325 -3.88905189657 -0.668209457397 1.80932183532 4.68107122846 2.76797640659 -2.42824231448 -1.08363884556 2.26356531302 2.57318497301 -2.68888904011 -0.0393185368915 2.50067845388 -1.85585602685 -2.70227933919 0.338789113714 -2.5192588481 4.24015366523 4.43181395219 2.53228099443 1.63390642152 -4.22847685814 -4.02636374426 0.656750504681 3.67944237665 4.02938536348 -3.76369773195 -3.82311208654 4.74033244893 4.08056861113 3.75788360519 -4.58252448753 0.0212064223811 3.93887388706 4.8024700711 -2.77965440356 -4.64840588426 -3.7185621706 -3.19590086755 4.86287865734 -2.60982850653 -3.82541505903 -4.71571563674 3.86999304043 -3.66185628363 -3.98653987626 3.34708015801 2.53928050974 4.77917428473 4.98802894805 2.78455879478 -4.02672422788 -4.74355384453 -4.51893129724 5.15728746036 3.86472001389 -4.14110286121 -5.0539764406 1.46894529235 3.9462988181 0.313026235145 -0.793830617333 -2.03461412536 5.31266495833 -5.09140246221 3.69037810813 5.3770732274 4.05390928083 -3.1206607328 -5.16807655773 -3.39475724949 4.40187692236 -4.12447434587 3.45864079234 1.07519431781 -3.16755591595 1.67545406691 1.39748369951 5.30065069238 -5.26223193256 0.182625718099 -0.921681783712 3.54832101771 0.704803481103 -1.35245806048 -3.20550295172 5.73064659571 -5.59185492141 1.16444302361 -1.82536993062 -1.00064418881 0.382577735481 3.47147135563 5.31661996202 -5.40941908871 -0.466276452277 0.893647265079 1.67976551911 -2.36282846525 -0.0128146390195 0.599901473032 1.88237659331 -2.58030513677 0.285592994513 3.41840000454 5.24274691073 -5.41108938683 -3.00494185814 2.58772005124 -3.27807673336 3.51462333975 -4.15154543716 4.07221092742 -4.5401842185 -4.77774697949 3.27175124316 -2.70787078741 0.167100798099 -1.08937809356 0.882333433018 -1.67471461902 1.17284616331 -1.97012917535 3.7993161694 5.56316519574 1.54063886301 -2.33114002514 -3.33813176158 1.87633353832 -2.66046864074 2.23545697464 -3.01416757164 -6.5609471539 5.78231248587 0.1948990184 -0.975943744666 -6.00962886616 3.67165572395 2.80408135435 0.897128958985 -1.6796687121 -3.55280464762 -3.11639495715 6.70326444372 3.11957666676 1.37379718998 -2.14060437803 -3.86685215532 -6.72107150198 6.93914815389 5.47184819926 -5.84065978498 5.2098220564 3.98893065088 -4.74083447866 -5.58678444098 2.04096714924 -1.06348337227 7.32972120194 4.64510852383 7.51776952283 -6.12507278804 5.05763813528 1.8519443456 -4.90089487668 -7.19632308916 -6.38810509245 6.40940968072 -7.20931345832 -6.81779641164 6.87040081208 -0.309640442964 1.98463299168 -1.13133169818 -6.89157344657 -7.45470889392 -6.14157725724 1.24858505355 6.50662153664 7.53187228751 7.45249996481 7.39960898898 -7.08309490918 -0.342055345282 7.18120897189 -2.40451197096 -7.30759775786 -7.19546163506 -4.81186781552 7.24181138326 7.38938800802 -7.43728079017 7.01983042267 3.79817547107 7.26580747158 -7.73021156668 7.67869640825 -7.17073863952 7.18651431166 7.94859519168 4.42489014803 -7.45097109302 -7.21792602359 3.26832930377 1.31642913208 -1.69842225032 0.727209711963 -0.176976283067 -1.05563832798 -6.04728634012 -3.59058616022 -7.39474706451 -7.69681862086 0.307267875544 -2.67731022808 -7.67692141559 -2.43157191417 -7.95279677834 2.78803885858 -8.25853222316 -4.43799500018\"\n",
    "test1 = \"-1.19567626391 -2.83472908213 2.02087696658 0.985150515478 0.229377995227 -0.607444476794 2.00577728273 2.22422956358 1.61912100313 3.13846940046 0.744262654979 -2.06421052331 1.0319913594 1.90333016325 3.24303478458 3.24303642078 -3.23926953181 -3.23926717982 -2.1796381185 -1.47465131554 -3.14520399473 3.42432392541 3.24392604197 -0.638963135785 0.762630321693 -3.90783908694 2.95549737896 2.97608638359 3.65057879188 -0.930516358015 3.32652554891 3.60404198289 -0.929732628865 -3.69141194809 -0.638962681545 -0.44891134491 -3.97422604441 3.32654935156 -2.23344348876 -2.98577258845 -3.41590374882 4.09464158463 3.22588805376 -3.29329456872 -3.29329938145 4.16687966861 3.85756510212 -4.15093818442 -3.6272785359 4.49667810503 -3.90706047999 1.85497102455 1.34925444395 -3.62727599067 -4.15093102883 1.41760286811 1.92829625469 4.59910699903 -2.56111157198 2.49129761207 -2.56111234454 2.50100452335 0.576383929076 -1.88273083767 -2.38256837227 0.576107760974 4.68922046677 2.80839607846 0.416961196844 -3.93025204441 0.418706612676 2.82945311127 2.99607177296 0.258162170831 -4.2155612482 -2.38256897619 0.255702960376 3.07384580382 3.01861237171 -2.60065495323 2.99591647248 -3.93025115789 2.08200758923 1.51116217622 -4.15749769378 -2.97484610078 1.51236829303 2.08614827079 -0.636603339957 -2.97484215372 -2.77075278161 -0.634224514034 5.04351975157 -2.46941887087 -5.17164066514 -5.17091176717 -4.35562593649 0.64243030137 0.659566134875 3.87457528456 0.466104576486 -2.89930338444 -4.15749593102 0.472144222506 3.9651502417 3.24542529878 3.22800345442 4.25852927522 -5.23954811548 4.25509012623 4.99239494161 5.39676846252 -1.33001602161 -1.32986112113 -5.57505805355 -5.57450166216 4.54394482968 -5.56845645437 -5.56852152884 4.53930943515 -0.608370077802 -0.606141776751 -5.54833911902 -5.54889316896 5.39677180341 6.00811573553 4.8562382464 -2.21662601568 -2.2425567965 5.5191644069 5.51916438678 -5.49678162971 -5.49752426175 5.77217670386 5.77217359398 -5.46519506977 -5.46449103163 5.75572432867 5.04225888104 -2.63176349465 -2.63667096386 4.99068327045 -5.29141644119 -5.29295159705 -4.86889746278 -4.86986048364 -4.46675665469 -4.55874610515 -4.30443570138 5.44911411173 5.47273014577 -6.37059464821 -6.36621514816 -6.33092444157 -6.33131043399 -6.30303578835 -6.30283517655 5.4828170736 3.65767937802 -6.25542090632 -6.25552513567 5.42967005609 -6.19793739357 -6.1979636634 -6.11924477579 -6.11775560645 -0.627307147984 -3.15204457004 -6.67336325039 -6.67321734834 -3.18339807455 5.78050601004 -5.95195577798 -6.62463949618 -6.62366810028 -5.95054265319 5.78420728019 -0.627294852697 -5.83291294526 -6.56847598581 -6.56821741768 -5.82221204566 1.12759867379 1.45125533057 -3.85406136386 -3.82468682239 -4.25565125569 -5.38276340581 -5.29681345777 -4.34679653418 6.77031516593 6.76751207362 0.560180730449 5.69797532225 0.274846651846 3.869401427 5.00833618368 -7.25691998523 4.93383234478 0.29611817082 3.54051907392 3.54051888191 0.560184499358 1.45125664044 1.12759356128 -7.32622253602 7.33834681068 7.33331400531 1.18929820536 1.2195122899 3.45157730384 7.55673132357 3.64907057582 1.21950660402 -1.92613262832 -2.52433235461 1.40358804839 7.55783414986 1.40358642917 -7.25693299539 1.35623338519 1.72157068247 5.99241676826 1.19362081786 1.35623988786 -1.92614608705 1.18929830909 -6.7981357714 1.7215582761 1.56513270887 -1.75353282582 1.02159340887 3.39672192071 -0.828612920604 -6.65762963494 2.45087755203 3.4925354174 7.03396391204 -7.93671716382 -7.93669434374 -8.025656949 -8.15679206977 -7.94753669994 -5.72258309585 7.29208968192 -3.76525947904 2.59863958128 8.25191798882 7.03624282343 -3.49081872841 8.21179723596 -3.03596961436 8.21179806078 3.56034537587 7.48867056246 2.79065035429 0.8328842316 2.23741406139 2.64950518894 2.9987803077 3.06691070854 -2.25845134363 2.54915620205 -2.77412130706 4.37669326879e-06 3.07344889468 2.5084770854 -3.09547199957 -2.54671047865 -0.419425869852 0.419414044843 0.158795411178 -0.15879571435 -2.21141661018 -2.77081654068 1.28649395788 -3.84878559454e-06 0.924445034387 3.93956771099 -3.63733725115 -0.0885365628892 -2.14911818514 -2.34741992604 -0.953075405379 -3.69262491981 -1.79988708011 -1.36078457653 3.70297685201 2.29562990473 -3.93956820847 -3.91334015943 -0.595682850726 1.7998148189 4.73308144736 2.81095948455 -2.36813334895 -1.08948122919 2.24065669951 2.63060700952 -2.63060383304 -0.0304447072902 2.44841385008 -1.74378862595 -2.61685761347 0.333034046243 -2.41223125091 4.1509394294 4.34783650424 2.6168576276 1.74378671293 -4.32034882639 -4.12389302611 0.639102516379 3.72330790123 3.93210040086 -3.72331288476 -3.92901755842 4.66544997615 4.09754310179 3.79341559381 -4.66559213309 -4.78523113852e-05 3.83660582606 4.73009126038 -2.65927602335 -4.72941741819 -3.83053876625 -3.27527639641 4.79333455267 -2.46063704464 -3.7934209135 -4.79433040794 3.76297274608 -3.77783788032 -3.93877269349 3.27530815907 2.65927450381 4.65509495695 4.87159909524 2.95378708358 -3.94989711307 -4.8711372661 -4.65356542493 5.11289360087 3.94989764853 -4.07730373309 -5.11216466542 1.36295976375 3.99287832293 0.556372165314 -0.549548520144 -1.89022127085 5.21198297454 -5.20531203928 3.56372386984 5.28050738039 4.14155773504 -2.95385175561 -5.27819238558 -3.5418353453 4.26581614103 -4.27097504349 3.32367506345 1.35022391097 -3.32451532644 1.5679308757 1.21502494546 5.29129711995 -5.29125569686 0.500359089901 -0.602063377248 3.3902662562 1.03037682897 -1.02613682748 -3.39163029622 5.67089077618 -5.67018058501 1.49947090431 -1.49040604415 -1.21501558787 0.00466340058954 3.28953046285 5.37648157641 -5.37588262705 -0.690328108013 0.690327368454 2.02512077319 -2.01961171947 -0.312117596123 0.312114506081 2.23095153437 -2.23507272655 8.14647131899e-06 3.21859485873 5.3429047984 -5.3421561918 -3.23925565843 2.94001072083 -2.93540527046 3.84411750821 -3.84264861673 4.36622660508 -4.26349609239 -4.52899282642 3.02287909078 -3.00943839171 0.56668053393 -0.690956639658 1.28258634425 -1.27746829966 1.57280848036 -1.57431958509 3.57156932299 5.49336489869 1.93924454013 -1.93837035466 -3.59646331375 2.27233900695 -2.27211075769 2.62681362321 -2.63273182331 -6.63799562416 5.91255046895 0.584593659341 -0.587866967976 -5.90500589012 3.41346807546 3.1831954091 1.2854023563 -1.29533967586 -3.18721693489 -3.41128544491 6.6380031327 3.48890863714 1.7591646618 -1.76097094902 -3.51397159244 -6.79847254281 6.88088793242 5.66417024156 -5.67810605012 5.43774617755 4.31835690275 -4.44027482437 -5.37641416915 1.56474154406 -1.57089139898 7.2717709223 4.5044479825 7.46599500078 -6.14141626614 4.9658779969 2.13108643439 -4.99543162418 -7.2613836636 -6.39947097971 6.39946074891 -7.27177725347 -6.8808896476 6.79847737756 -2.06359190254e-06 1.55758161532 -1.57034229571 -6.95821106124 -7.49520893934 -6.1669896137 0.801112786275 6.50271416135 7.49520648396 7.44668903806 7.41634981683 -7.13441886757 -0.795371198698 7.13441462013 -2.13111690321 -7.35056509449 -7.23273576863 -4.9107553165 7.19198122938 7.35056926189 -7.44669644205 6.9582168078 4.01777724889 7.23273576733 -7.75475625644 7.66669690348 -7.22750695586 7.19228444067 7.91881656948 4.60765461961 -7.46153722894 -7.2131940762 2.97831992535 1.50881206757 -1.50888078856 0.917544515695 1.00426165207e-05 -0.854533110877 -5.91974151155 -3.75813064103 -7.3458989248 -7.70151807622 -8.47181716334e-05 -2.97729890367 -7.64408157159 -2.60917319622 -7.93541675879 2.60917211816 -8.25437513201 -4.522658455\"\n",
    "test1 = test1.split(\" \")\n",
    "print(len(test1))"
   ]
  },
  {
   "cell_type": "code",
   "execution_count": 1,
   "metadata": {},
   "outputs": [
    {
     "data": {
      "image/png": "[encoded data removed]",
      "text/plain": [
       "<matplotlib.figure.Figure at 0x104037048>"
      ]
     },
     "metadata": {},
     "output_type": "display_data"
    }
   ],
   "source": [
    "import matplotlib.pyplot\n",
    "import pylab\n",
    "\n",
    "x = [1,2,3,4]\n",
    "y = [3,4,8,6]\n",
    "\n",
    "matplotlib.pyplot.scatter(x,y)\n",
    "\n",
    "matplotlib.pyplot.show()"
   ]
  },
  {
   "cell_type": "code",
   "execution_count": 7,
   "metadata": {},
   "outputs": [
    {
     "name": "stdout",
     "output_type": "stream",
     "text": [
      "[[39.5, -10.0], [29.95084971874737, 19.389262614623657], [4.950849718747373, 37.552825814757675], [-25.950849718747367, 37.55282581475768], [-50.950849718747364, 19.38926261462366], [-60.5, -9.999999999999995], [-50.95084971874737, -39.38926261462365], [-25.950849718747378, -57.552825814757675], [4.950849718747362, -57.55282581475768], [29.950849718747364, -39.38926261462366], [39.5, -10.000000000000012]]\n"
     ]
    }
   ],
   "source": [
    "import math\n",
    "from math import pi\n",
    "\n",
    "\n",
    "def getRing(center, r):\n",
    "    n = 10\n",
    "    ring = [[center[0]+(math.cos(2 * pi / n * x) * r),  \n",
    "            center[1] + (math.sin(2 * pi / n * x) * r)] for x in range(0, n + 1)]\n",
    "    print(ring)\n",
    "    return ring\n",
    "\n",
    "\n",
    "print (getRing([-10.5,-10],50))"
   ]
  },
  {
   "cell_type": "code",
   "execution_count": 7,
   "metadata": {},
   "outputs": [
    {
     "name": "stdout",
     "output_type": "stream",
     "text": [
      "4.0\n"
     ]
    }
   ],
   "source": [
    "def getDis(m1,m2):\n",
    "    k = ((m1[0]-m2[0])**2+(m1[1]-m2[1])**2)**(1/2)\n",
    "    return k\n",
    "\n",
    "m = getDis([1,0],[5,0])\n",
    "print (m)"
   ]
  },
  {
   "cell_type": "code",
   "execution_count": null,
   "metadata": {
    "collapsed": true
   },
   "outputs": [],
   "source": [
    "#imports\n",
    "import math\n",
    "# This line configures matplotlib to show figures embedded in the notebook, \n",
    "# instead of opening a new window for each figure. More about that later. \n",
    "# If you are using an old version of IPython, try using '%pylab inline' instead.\n",
    "%matplotlib inline\n",
    "from pylab import *\n",
    "import matplotlib\n",
    "import matplotlib.pyplot as plt\n",
    "import numpy as np\n",
    "\n",
    "#open and record data from a file\n",
    "\n",
    "def openN(fileName):\n",
    "\n",
    "    #a list of time with evolving x,y coordinates\n",
    "    wholeList = []\n",
    "\n",
    "    #open and record\n",
    "    with open(fileName,\"r\") as f:\n",
    "        #for each time\n",
    "        for line in f:\n",
    "            #coordinates\n",
    "            listX = []\n",
    "            listY = []\n",
    "            a = line.split(\" \")\n",
    "            #delete the first element which is the time\n",
    "            words = a[1:]\n",
    "            m = round((len(words))/2)\n",
    "            for x in range(0, m):\n",
    "                listX.append(float(words[2*x]))\n",
    "                listY.append(float(words[2*x+1]))\n",
    "            #append xy of each time\n",
    "            listTime = []\n",
    "            \n",
    "            listTime.append(listX)\n",
    "            listTime.append(listY)\n",
    "            \n",
    "            wholeList.append(listTime)\n",
    "    return wholeList\n",
    "#print(lister[8])\n",
    "\n",
    "#open one file\n",
    "useList = openN(\"2_1_2_n1_n2_n1#0.00501187.dat\")\n",
    "print useList"
   ]
  },
  {
   "cell_type": "code",
   "execution_count": 8,
   "metadata": {},
   "outputs": [
    {
     "name": "stdout",
     "output_type": "stream",
     "text": [
      "7\n"
     ]
    },
    {
     "ename": "NameError",
     "evalue": "name 'mylist' is not defined",
     "output_type": "error",
     "traceback": [
      "\u001b[1;31m---------------------------------------------------------------------------\u001b[0m",
      "\u001b[1;31mNameError\u001b[0m                                 Traceback (most recent call last)",
      "\u001b[1;32m<ipython-input-8-270b5f65a329>\u001b[0m in \u001b[0;36m<module>\u001b[1;34m()\u001b[0m\n\u001b[0;32m      5\u001b[0m \u001b[1;33m\u001b[0m\u001b[0m\n\u001b[0;32m      6\u001b[0m \u001b[0mlists\u001b[0m \u001b[1;33m=\u001b[0m \u001b[1;33m[\u001b[0m\u001b[1;36m3\u001b[0m\u001b[1;33m,\u001b[0m\u001b[1;36m54\u001b[0m\u001b[1;33m,\u001b[0m\u001b[1;36m6\u001b[0m\u001b[1;33m,\u001b[0m\u001b[1;36m3\u001b[0m\u001b[1;33m,\u001b[0m\u001b[1;36m5\u001b[0m\u001b[1;33m,\u001b[0m\u001b[1;36m7\u001b[0m\u001b[1;33m,\u001b[0m\u001b[1;36m997\u001b[0m\u001b[1;33m,\u001b[0m\u001b[1;36m5\u001b[0m\u001b[1;33m,\u001b[0m\u001b[1;36m3\u001b[0m\u001b[1;33m,\u001b[0m\u001b[1;36m1\u001b[0m\u001b[1;33m,\u001b[0m\u001b[1;36m6\u001b[0m\u001b[1;33m,\u001b[0m\u001b[1;36m52\u001b[0m\u001b[1;33m]\u001b[0m\u001b[1;33m\u001b[0m\u001b[0m\n\u001b[1;32m----> 7\u001b[1;33m \u001b[0mnewlist\u001b[0m \u001b[1;33m=\u001b[0m \u001b[0mmylist\u001b[0m\u001b[1;33m[\u001b[0m\u001b[1;36m1\u001b[0m\u001b[1;33m:\u001b[0m\u001b[1;33m]\u001b[0m\u001b[1;33m\u001b[0m\u001b[0m\n\u001b[0m\u001b[0;32m      8\u001b[0m \u001b[1;33m\u001b[0m\u001b[0m\n\u001b[0;32m      9\u001b[0m \u001b[0mprint\u001b[0m\u001b[1;33m(\u001b[0m\u001b[0mnewlist\u001b[0m\u001b[1;33m)\u001b[0m\u001b[1;33m\u001b[0m\u001b[0m\n",
      "\u001b[1;31mNameError\u001b[0m: name 'mylist' is not defined"
     ]
    }
   ],
   "source": [
    "w, h ,l = 8, 5, 9\n",
    "Matrix = [[[0 for x in range(w)] for y in range(h)]for z in range(l)]\n",
    "Matrix[0][4][3] = 7\n",
    "print(Matrix[0][4][3])\n",
    "\n",
    "lists = [3,54,6,3,5,7,997,5,3,1,6,52]\n",
    "newlist = mylist[1:]\n",
    "\n",
    "print(newlist)\n",
    "print(lists[-1])\n",
    "\n",
    "liste = []\n",
    "liste.append([9,5])\n",
    "print(liste)\n",
    "\n",
    "def findd(list):\n",
    "    print(list[2][4]) \n",
    "findd([3,4])"
   ]
  },
  {
   "cell_type": "code",
   "execution_count": null,
   "metadata": {
    "collapsed": true
   },
   "outputs": [],
   "source": [
    "#imports\n",
    "import math\n",
    "# This line configures matplotlib to show figures embedded in the notebook, \n",
    "# instead of opening a new window for each figure. More about that later. \n",
    "# If you are using an old version of IPython, try using '%pylab inline' instead.\n",
    "%matplotlib inline\n",
    "from pylab import *\n",
    "import matplotlib\n",
    "import matplotlib.pyplot as plt\n",
    "import numpy as np\n",
    "\n",
    "#plot\n",
    "\n",
    "\n",
    "figure(num=None, figsize=(8, 6), dpi=80, facecolor='w', edgecolor='k')\n",
    "xlabel('x')\n",
    "ylabel('y')\n",
    "title('distance')\n",
    "myColor = '#920310'\n",
    "lit = \"#\"+str(9)+str(78)+\"908\"\n",
    "print(lit)\n",
    "plt.scatter(4,5,color = lit)\n"
   ]
  },
  {
   "cell_type": "code",
   "execution_count": null,
   "metadata": {
    "collapsed": true
   },
   "outputs": [],
   "source": [
    "import numpy as np\n",
    "import numpy.random\n",
    "import matplotlib.pyplot as plt\n",
    "\n",
    "# Generate some test data\n",
    "x = np.random.randn(8873)\n",
    "y = np.random.randn(8873)\n",
    "\n",
    "heatmap, xedges, yedges = np.histogram2d(x, y, bins=50)\n",
    "extent = [xedges[0], xedges[-1], yedges[0], yedges[-1]]\n",
    "\n",
    "plt.clf()\n",
    "\n",
    "plt.imshow(heatmap, extent=extent)\n",
    "plt.show()"
   ]
  },
  {
   "cell_type": "code",
   "execution_count": null,
   "metadata": {
    "collapsed": true
   },
   "outputs": [],
   "source": [
    "from matplotlib import pyplot as PLT\n",
    "from matplotlib import cm as CM\n",
    "from matplotlib import mlab as ML\n",
    "import numpy as NP\n",
    "\n",
    "n = 1e5\n",
    "x = y = NP.linspace(-5, 5, 100)\n",
    "X, Y = NP.meshgrid(x, y)\n",
    "Z1 = ML.bivariate_normal(X, Y, 2, 2, 0, 0)\n",
    "Z2 = ML.bivariate_normal(X, Y, 4, 1, 1, 1)\n",
    "ZD = Z2 - Z1\n",
    "x = X.ravel()\n",
    "y = Y.ravel()\n",
    "z = ZD.ravel()\n",
    "gridsize=30\n",
    "PLT.subplot(111)\n",
    "\n",
    "# if 'bins=None', then color of each hexagon corresponds directly to its count\n",
    "# 'C' is optional--it maps values to x-y coordinates; if 'C' is None (default) then \n",
    "# the result is a pure 2D histogram \n",
    "\n",
    "PLT.hexbin(x, y, C=z, gridsize=gridsize, cmap=CM.jet, bins=None)\n",
    "PLT.axis([x.min(), x.max(), y.min(), y.max()])\n",
    "\n",
    "cb = PLT.colorbar()\n",
    "cb.set_label('mean value')\n",
    "PLT.show() "
   ]
  },
  {
   "cell_type": "code",
   "execution_count": null,
   "metadata": {
    "collapsed": true
   },
   "outputs": [],
   "source": [
    "from matplotlib import pyplot as PLT\n",
    "from matplotlib import cm as CM\n",
    "from matplotlib import mlab as ML\n",
    "import numpy as NP\n",
    "gridsize=30\n",
    "PLT.subplot(111)\n",
    "\n",
    "# if 'bins=None', then color of each hexagon corresponds directly to its count\n",
    "# 'C' is optional--it maps values to x-y coordinates; if 'C' is None (default) then \n",
    "# the result is a pure 2D histogram \n",
    "x =[1,2,3,4,5]\n",
    "y= [1,2,3,4,5]\n",
    "z= [2,5,3,5,7]\n",
    "#gridsize=gridsize,\n",
    "PLT.hexbin(x, y, C=z,  cmap=CM.jet, bins=None)\n",
    "#PLT.axis([x.min(), x.max(), y.min(), y.max()])\n",
    "\n",
    "cb = PLT.colorbar()\n",
    "cb.set_label('mean value')\n",
    "PLT.show() "
   ]
  },
  {
   "cell_type": "code",
   "execution_count": null,
   "metadata": {
    "collapsed": true
   },
   "outputs": [],
   "source": [
    "#find points that travels back\n",
    "def findZero(listW,listD):\n",
    "    for x in range(0,len(listD)):\n",
    "        if(listD[x]==0):\n",
    "        #list of one point's path\n",
    "            listOne = []\n",
    "            for m in range(0,len(listW)):\n",
    "                listOne.append(listW[m][x])\n",
    "            listPa.append(listOne)\n",
    "    return listPa\n",
    "\n",
    "def findStartP (listW):\n",
    "    for y in range(0,len(listW[0][0])):\n",
    "        #go through the whole time\n",
    "        onePoint = []\n",
    "        #start place\n",
    "        x0 = listW[0][y][0]\n",
    "        y0 = listW[0][y][1]\n",
    "        \n",
    "        onePoint.append(x0)\n",
    "        onePoint.append(y0)\n",
    "    return onePoint\n",
    "\n",
    "print(\"2\",[2,3,4])"
   ]
  },
  {
   "cell_type": "code",
   "execution_count": null,
   "metadata": {
    "collapsed": true
   },
   "outputs": [],
   "source": [
    "\n",
    "int \n",
    "        \n",
    "print(\"here\" in [\"herer\",\"here\"])\n",
    "print(5 in[2,3,5])"
   ]
  },
  {
   "cell_type": "code",
   "execution_count": null,
   "metadata": {
    "collapsed": true
   },
   "outputs": [],
   "source": [
    "print(\" 200, 201, 202, 302, 303, 403, 404, 504, 505, 605, 606, 706, 707, 807, 808, 908, 909, 1009, 1010, 1110, 1111, 1211, 1212, 1312, 1313, 1413, 1414, 1514, 1515, 1615, 1616, 1716, 1717, 1817, 1818, 1918, 1919, 2019, 2020, 2120, 2121, 2221, 2222, 2322, 2323, 2423, 2424, 2524, 2525, 2625, 2626, 2726, 2727, 2827, 2828, 2928, 2929, 3029, 3030, 3130, 3131, 3231, 3232, 3332, 3333, 3433, 3434, 3534, 3535, 3635, 3636, 3736, 3737, 3837, 3838, 3938, 3939, 4039, 4040, 4140, 4141, 4241, 4242, 4342, 4343, 4443, 4444, 4544, 4545, 4645, 4646, 4746, 4747, 4847, 4848, 4948, 4949, 5049, 5050, 5150, 5151, 5251, 5252, 5352, 5353, 5453, 5454, 5554, 5555, 5655, 5656, 5756, 5757, 5857, 5858, 5958, 5959, 6059, 6060, 6160, 6161, 6261, 6262, 6362, 6363, 6463, 6464, 6564, 6565, 6665, 6666, 6766, 6767, 6867, 6868, 6968, 6969, 7069, 7070, 7170, 7171, 7271, 7272, 7372, 7373, 7473, 7474, 7475, 7573, 7574, 7575, 7576, 7577, 7578, 7579, 7580, 7581, 7582, 7583, 7584, 7585, 7586, 7587, 7588, 7589, 7590, 7591, 7592, 7593, 7594, 7595, 7596, 7597, 7598, 7599, 76\")"
   ]
  },
  {
   "cell_type": "code",
   "execution_count": null,
   "metadata": {
    "collapsed": true
   },
   "outputs": [],
   "source": [
    "print(\"9, 200, 201, 202, 203, 204, 205, 206, 207, 208, 209, 210, 211, 212, 213, 214, 215, 216, 217, 218, 219, 220, 221, 222, 223, 224, 225, 226, 227, 228, 229, 230, 231, 232, 233, 234, 235, 236, 237, 238, 239, 240, 241, 242, 243, 244, 245, 246, 247, 248, 249, 250, 251, 252, 253, 254, 255, 256, 257, 258, 259, 260, 261, 262, 263, 264, 265, 266, 267, 268, 269, 270, 271, 272, 273, 274, 275, 276, 277, 278, 279, 280, 281, 282, 283, 284, 285, 286, 287, 288, 289, 290, 291, 292, 293, 294, 295, 296, 297, 298, 299, 300, 301, 302, 303, 304, 305, 306, 307, 308, 309, 310, 311, 312, 313, 314, 315, 316, 317, 318, 319, 320, 321, 322, 323, 324, 325, 326, 327, 328, 329, 330, 331, 332, 333, 3\")"
   ]
  },
  {
   "cell_type": "code",
   "execution_count": null,
   "metadata": {
    "collapsed": true
   },
   "outputs": [],
   "source": [
    "print(\"8, 199, 203, 204, 205, 206, 207, 208, 209, 210, 211, 212, 213, 214, 215, 216, 217, 218, 219, 220, 221, 222, 223, 224, 225, 226, 227, 228, 229, 230, 231, 232, 233, 234, 235, 236, 237, 238, 239, 240, 241, 242, 243, 244, 245, 246, 247, 248, 249, 250, 251, 252, 253, 254, 255, 256, 257, 258, 259, 260, 261, 262, 263, 264, 265, 266, 267, 268, 269, 270, 271, 272, 273, 274, 275, 276, 277, 278, 279, 280, 281, 282, 283, 284, 285, 286, 287, 288, 289, 290, 291, 292, 293, 294, 295, 296, 297, 298, 299, 300, 301, 304, 305, 306, 307, 308, 309, 310, 311, 312, 313, 314, 315, 316, 317, 318, 319, 320, 321, 322, 323, 324, 325, 326, 327, 328, 329, 330, 331, 332, 333, 334, 335, 336, 337, 338, 339, 340, 341, 342, 343, 344, 345, 346, 347, 348, 349, 350, 351, 352, 353, 35\")"
   ]
  },
  {
   "cell_type": "code",
   "execution_count": null,
   "metadata": {
    "collapsed": true
   },
   "outputs": [],
   "source": [
    "a =set([2,4,5,6]).intersection([3,5,4,7,8]).intersection([5])\n",
    "a = list(a)\n",
    "print(a)"
   ]
  },
  {
   "cell_type": "code",
   "execution_count": null,
   "metadata": {
    "collapsed": true
   },
   "outputs": [],
   "source": [
    "#the list to keep track of index of good points \n",
    "goodIndex = []\n",
    "\n",
    "goodI1 = getR(useList,0.00001)\n",
    "#listA = cutList(useList,goodI1)\n",
    "\n",
    "goodI2 = findSmall(listDist,0.001)\n",
    "#listB = cutList(useList,goodI2)\n",
    "\n",
    "#coordinates of center of disks\n",
    "d1 = [-1,0]\n",
    "d2 = [0,0]\n",
    "d3 = [1,0]\n",
    "#the radius we want to include\n",
    "r = 0.2\n",
    "\n",
    "\n",
    "goodI3 = findDisk(useList,d1,d2,d3,r)\n",
    "#goodI3P = findDisk(listB,d1,d2,d3,r)\n",
    "\n",
    "#listC = cutList(listB,goodI3P)\n",
    "    \n",
    "line = findLine(useList)  \n",
    "\n",
    "finalIndex = []\n",
    "finalIndex = findIndex(useList, goodI1, goodI2,goodI3)\n",
    "\n",
    "goodI4 = findLM(listDist,useList,finalIndex)\n",
    "#print(finalIndex)\n",
    "#print(\"goodI1\", goodI1)\n",
    "#print(\"goodI2\", goodI2)\n",
    "#print(\"goodI3\", goodI3)\n",
    "#print(\"goodI4\", goodI4)\n",
    "#the list of local minium\n",
    "listD = cutList(useList,goodI4)\n",
    "\n",
    "\n",
    "\n",
    "\n",
    "figure()\n",
    "xlabel('x')\n",
    "ylabel('y')\n",
    "title('distance')\n",
    "listxxx = []\n",
    "listyyy = []\n",
    "for p in range (0,len(goodI4)):\n",
    "    \n",
    "    listxxx.append(useList[0][0][goodI4(p)])\n",
    "    listyyy.append(useList[0][1][goodI4(p)])\n",
    "#print(listxxx)\n",
    "plt.scatter(listxxx, listyyy)"
   ]
  },
  {
   "cell_type": "code",
   "execution_count": null,
   "metadata": {
    "collapsed": true
   },
   "outputs": [],
   "source": [
    "def findIndex(listW,i1,i2,i3):\n",
    "    #for every point\n",
    "    listt = []\n",
    "    for x in range (0,len(listW[0][0])):\n",
    "        #print(x in i1 and x in i2 and x in i3)\n",
    "\n",
    "        if x in i1 and x in i2 and x in i3:\n",
    "            listt.append(x)\n",
    "    return listt\n",
    "a = [1,2,3]\n",
    "b=[1,2,6]\n",
    "c = [1,2,0]\n",
    "d =[0,1,2,3,4,5,6,7,8,9]\n",
    "m = [[d]]\n",
    "v =findIndex(m,a,b,c)\n",
    "print(v)"
   ]
  },
  {
   "cell_type": "code",
   "execution_count": null,
   "metadata": {
    "collapsed": true
   },
   "outputs": [],
   "source": [
    "print([124, 125, 126, 127, 128, 129, 130, 131, 132, 133, 134, 135, 136, 137, 138, 217, 218, 219, 220, 221, 222, 223, 224, 225, 226, 227, 228, 229, 230, 231, 232, 233, 234, 235, 236, 237, 238, 239, 240, 241, 242, 243, 244, 245, 246, 247, 248, 249, 282, 283, 284, 285, 286, 287, 288, 289, 290, 291, 316, 317, 318, 319, 320, 321, 322, 323, 324, 325, 326, 327, 328, 329, 330, 331, 332, 333, 334, 335, 336, 337, 338, 339, 340, 341, 342, 343, 344, 345, 346, 347, 348, 349, 350, 351, 352, 353, 354, 355, 380, 381, 382, 383, 384, 385, 386, 387, 388, 389, 390, 391, 392, 393, 394, 395, 416, 417, 418, 419, 420, 421, 422, 423, 424, 425, 426, 427, 428, )"
   ]
  },
  {
   "cell_type": "code",
   "execution_count": null,
   "metadata": {
    "collapsed": true
   },
   "outputs": [],
   "source": [
    "print(120, 121, 122, 123, 139, 140, 141, 142, 143, 144, 145, 146, 147, 148, 149, 150, 151, 152, 153, 154, 155, 156, 157, 158, 159, 160, 161, 162, 163, 164, 165, 166, 167, 168, 169, 170, 171, 172, 173, 174, 175, 176, 177, 178, 179, 180, 181, 182, 183, 184, 185, 186, 187, 188, 189, 190, 191, 192, 193, 194, 195, 196, 197, 198, 199, 200, 201, 202, 203, 204, 205, 206, 207, 208, 209, 210, 211, 212, 213, 214, 215, 216, 250, 251, 252, 253, 254, 255, 256, 257, 258, 259, 260, 261, 262, 263, 264, 265, 266, 267, 268, 269, 270, 271, 272, 273, 274, 275, 276, 277, 278, 279, 280, 281, 292, 293, 294, 295, 296, 297, 298, 299, 300, 301, 302, 303, 304, 305, 306, 307, 308, 309, 310, 311, 312, 313, 314, 315, 356, 357, 358, 359, 360, 361, 362, 363, 364, 365, 366, 367, 368, 369, 370, 371, 372, 373, 374, 375, 376, 377, 378, 3)"
   ]
  },
  {
   "cell_type": "code",
   "execution_count": null,
   "metadata": {
    "collapsed": true
   },
   "outputs": [],
   "source": [
    "if(0<8):\n",
    "    print(3)\n",
    "elif(0<7):\n",
    "    print(0)"
   ]
  },
  {
   "cell_type": "code",
   "execution_count": null,
   "metadata": {
    "collapsed": true
   },
   "outputs": [],
   "source": [
    "#find intersection of two lines\n",
    "def findInter(l1,l2):\n",
    "    #if the slope is the same\n",
    "    if(l1[0] == l2[0]):\n",
    "        return \"ERROR\"\n",
    "    point = []\n",
    "    x = (l2[1]-l1[1])/(l1[0]-l2[0])                \n",
    "    y = l1[0]*x +l1[1]    \n",
    "    point = [x,y]  \n",
    "    return point \n",
    "we =findInter([1,2],[2,0])\n",
    "print(\"this\",we)\n",
    "\n",
    "\n",
    "print(\"this is running\")"
   ]
  },
  {
   "cell_type": "code",
   "execution_count": null,
   "metadata": {
    "collapsed": true
   },
   "outputs": [],
   "source": [
    "\n",
    "def b(x):\n",
    "    return a(x)+1\n",
    "\n",
    "def a(a):\n",
    "    return a+1\n",
    "print(b(0))"
   ]
  },
  {
   "cell_type": "code",
   "execution_count": 12,
   "metadata": {
    "collapsed": true
   },
   "outputs": [],
   "source": [
    "from scipy.interpolate import interp1d\n",
    "import numpy as np\n",
    "\n",
    "x = np.linspace(0, 10, num=11, endpoint=True)\n",
    "y = np.cos(-x**2/9.0)\n",
    "f = interp1d(x, y)\n",
    "f2 = interp1d(x, y, kind='cubic')\n",
    "xnew = np.linspace(0, 10, num=41, endpoint=True)\n",
    "import matplotlib.pyplot as plt\n",
    "plt.plot(x, y, 'o', xnew, f(xnew), '-', xnew, f2(xnew), '--')\n",
    "plt.legend(['data', 'linear', 'cubic'], loc='best')\n",
    "plt.show()"
   ]
  },
  {
   "cell_type": "code",
   "execution_count": 9,
   "metadata": {
    "collapsed": true
   },
   "outputs": [],
   "source": [
    "def func(x, y):\n",
    "    return x*(1-x)*np.cos(4*np.pi*x) * np.sin(4*np.pi*y**2)**2\n",
    "#on a grid in [0, 1]x[0, 1]\n",
    "\n",
    "grid_x, grid_y = np.mgrid[0:1:100j, 0:1:200j]\n",
    "#but we only know its values at 1000 data points:\n",
    "points = np.random.rand(1000, 2)\n",
    "values = func(points[:,0], points[:,1])\n",
    "#This can be done with griddata – below we try out all of the interpolation methods:\n",
    "\n",
    "\n",
    "from scipy.interpolate import griddata\n",
    "grid_z0 = griddata(points, values, (grid_x, grid_y), method='nearest')\n",
    "grid_z1 = griddata(points, values, (grid_x, grid_y), method='linear')\n",
    "grid_z2 = griddata(points, values, (grid_x, grid_y), method='cubic')\n",
    "#One can see that the exact result is reproduced by all of the methods to some degree, but for this smooth function the piecewise cubic interpolant gives the best results:\n",
    "\n",
    "import matplotlib.pyplot as plt\n",
    "plt.subplot(221)\n",
    "plt.imshow(func(grid_x, grid_y).T, extent=(0,1,0,1), origin='lower')\n",
    "plt.plot(points[:,0], points[:,1], 'k.', ms=1)\n",
    "plt.title('Original')\n",
    "plt.subplot(222)\n",
    "plt.imshow(grid_z0.T, extent=(0,1,0,1), origin='lower')\n",
    "plt.title('Nearest')\n",
    "plt.subplot(223)\n",
    "plt.imshow(grid_z1.T, extent=(0,1,0,1), origin='lower')\n",
    "plt.title('Linear')\n",
    "plt.subplot(224)\n",
    "plt.imshow(grid_z2.T, extent=(0,1,0,1), origin='lower')\n",
    "plt.title('Cubic')\n",
    "plt.gcf().set_size_inches(6, 6)\n",
    "plt.show()"
   ]
  },
  {
   "cell_type": "code",
   "execution_count": 2,
   "metadata": {},
   "outputs": [
    {
     "name": "stdout",
     "output_type": "stream",
     "text": [
      "[[2, 3], [3, 1], [5, 7]]\n"
     ]
    }
   ],
   "source": [
    "m = [[2,3],[5,7],[3,1]]\n",
    "m.sort()\n",
    "print(m)"
   ]
  },
  {
   "cell_type": "code",
   "execution_count": 11,
   "metadata": {},
   "outputs": [
    {
     "name": "stdout",
     "output_type": "stream",
     "text": [
      "[[8, 87], [7]]\n"
     ]
    }
   ],
   "source": [
    "    lm = [[]]\n",
    "    lm[0].append(8)\n",
    "lm.append([7])\n",
    "lm[0].append(87)\n",
    "\n",
    "print(lm)"
   ]
  },
  {
   "cell_type": "code",
   "execution_count": 4,
   "metadata": {},
   "outputs": [
    {
     "name": "stdout",
     "output_type": "stream",
     "text": [
      "[0.9999999999999996, 2.0000000000000004]\n"
     ]
    }
   ],
   "source": [
    "#find intersection of two vectors\n",
    "def InterVec(l1,l2):\n",
    "    #l1l2 magnitude m and n\n",
    "    #l1[0]+l1[2]m = l20+ l2[2]n\n",
    "    #1313\n",
    "    n = (l1[3]*l1[0]-l1[1]*l1[2]-l1[3]*l2[0]+l2[1]*l1[2])/(l1[3]*l2[2]-l2[3]*l1[2])\n",
    "    x = l2[0]+l2[2]*n\n",
    "    y = l2[1]+l2[3]*n\n",
    "    return[x,y]\n",
    "\n",
    "a = InterVec([0,0,1/(5**(1/2)),2/(5**(1/2)),3],[3,0,-2/(2**(1/2)),2/(2**(1/2)),7])\n",
    "print(a)"
   ]
  },
  {
   "cell_type": "code",
   "execution_count": 14,
   "metadata": {},
   "outputs": [
    {
     "name": "stdout",
     "output_type": "stream",
     "text": [
      "this is xyz [0, 0] [3, 0] [0, 3]\n",
      "this is the old triangle lines [0, 0, 1.0, 0.0, 3.0] [3, 0, -0.7071067811865476, 0.7071067811865476, 4.242640687119285] [0, 3, 0.0, -1.0, 3.0]\n",
      "directions [0.0, 27.0] [-26.999999999999986, -27.0] [27.0, 0.0]\n",
      "new lines:  [0.0, 1.0, 1.0, 0.0, 3.0] [2.2928932188134525, -0.7071067811865477, -0.7071067811865476, 0.7071067811865476, 4.242640687119285] [1.0, 3.0, 0.0, -1.0, 3.0]\n",
      "[[0.5857864376269051, 0.9999999999999998], [1.0, 0.5857864376269051], [1.0, 1.0]]\n"
     ]
    }
   ],
   "source": [
    "#use the three new points and the heights to find three intersections\n",
    "def getDir(sur,h):\n",
    "    #sur = [[xxx],[yyy]]\n",
    "    #h = [hhh]\n",
    "    #the points are marked counter clock wise\n",
    "    x = [sur[0][0],sur[1][0]]\n",
    "    y = [sur[0][1],sur[1][1]]\n",
    "    z = [sur[0][2],sur[1][2]]  \n",
    "    print(\"this is xyz\",x,y,z)\n",
    "    \n",
    "    \n",
    "    #vector representation of lines of the triangle\n",
    "    #line = [startx, sy,ux,uy,s]\n",
    "    #xy\n",
    "    mxy = getDis(x,y)\n",
    "    olxy = [x[0],x[1],(y[0]-x[0])/mxy,(y[1]-x[1])/mxy,mxy]\n",
    "    #yz\n",
    "    myz = getDis(y,z)\n",
    "    olyz = [y[0],y[1],(z[0]-y[0])/myz,(z[1]-y[1])/myz,myz]\n",
    "    #zx\n",
    "    mzx = getDis(z,x)\n",
    "    olzx = [z[0],z[1],(x[0]-z[0])/mzx,(x[1]-z[1])/mzx,mzx]\n",
    "    \n",
    "    print(\"this is the old triangle lines\",olxy,olyz,olzx)\n",
    "    \n",
    "    #find direction\n",
    "    #(a*b)*c = b(a.c)-a(b.c)\n",
    "    #(a*b)*a = b(a.a)-a(b.a)\n",
    "    #the vector that starts from the origin\n",
    "    xy = [y[0]-x[0],y[1]-x[1]]\n",
    "    yz = [z[0]-y[0],z[1]-y[1]]\n",
    "    zx = [x[0]-z[0],x[1]-z[1]]\n",
    "    #reverse direction, just add minus sign\n",
    "    xyxz = -(xy[0]*zx[0]+xy[1]*zx[1])\n",
    "    yxyz = -(xy[0]*yz[0]+xy[1]*yz[1])\n",
    "    zxzy = -(zx[0]*yz[0]+zx[1]*yz[1])\n",
    "    \n",
    "    #dxy = xz(mxy^2)-xy(xz.xy)\n",
    "    d1 = [-zx[0]*(mxy**2)-xy[0]*(xyxz),-zx[1]*(mxy**2)-xy[1]*(xyxz)]\n",
    "    #yz\n",
    "    d2 = [-xy[0]*(myz**2)-yz[0]*(yxyz),-xy[1]*(myz**2)-yz[1]*(yxyz)]\n",
    "    #zx\n",
    "    d3 = [-yz[0]*(mzx**2)-zx[0]*(zxzy),-yz[1]*(mzx**2)-zx[1]*(zxzy)]\n",
    "    \n",
    "    print(\"directions\",d1,d2,d3)\n",
    "    \n",
    "    #move the two points in d1 of h to get two new points to define a newline\n",
    "    #xy\n",
    "    dm1 = ((d1[0])**2+(d1[1])**2)**(1/2)\n",
    "    p1 = h[0]/dm1\n",
    "    v1 = [d1[0]*p1,d1[1]*p1]\n",
    "    #yz\n",
    "    dm2 = ((d2[0])**2+(d2[1])**2)**(1/2)\n",
    "    p2 = h[1]/dm2\n",
    "    v2 = [d2[0]*p2,d2[1]*p2]\n",
    "    #zx\n",
    "    dm3 = ((d3[0])**2+(d3[1])**2)**(1/2)\n",
    "    p3 = h[2]/dm3\n",
    "    v3 = [d3[0]*p3,d3[1]*p3]\n",
    "    \n",
    "    #newline\n",
    "    #xy\n",
    "    nlxy = [olxy[0]+v1[0],olxy[1]+v1[1],olxy[2],olxy[3],olxy[4]]\n",
    "    \n",
    "    #yz\n",
    "    nlyz = [olyz[0]+v2[0],olyz[1]+v2[1],olyz[2],olyz[3],olyz[4]]\n",
    "    \n",
    "    #zx\n",
    "    nlzx = [olzx[0]+v3[0],olzx[1]+v3[1],olzx[2],olzx[3],olzx[4]]\n",
    "    \n",
    "    #intersections\n",
    "    print(\"new lines: \", nlxy,nlyz,nlzx)\n",
    "    \n",
    "    \n",
    "    i1 = InterVec(nlxy,nlyz)\n",
    "    i2 = InterVec(nlyz,nlzx)\n",
    "    i3 = InterVec(nlzx,nlxy)\n",
    "    \n",
    "    return[i1,i2,i3]\n",
    "\n",
    "def getDis(m1,m2):\n",
    "    k = ((m1[0]-m2[0])**2+(m1[1]-m2[1])**2)**(1/2)\n",
    "    return k    \n",
    "\n",
    "#find intersection of two vectors\n",
    "def InterVec(l1,l2):\n",
    "    #l1l2 magnitude m and n\n",
    "    #l1[0]+l1[2]m = l20+ l2[2]n\n",
    "    #1313\n",
    "    n = (l1[3]*l1[0]-l1[1]*l1[2]-l1[3]*l2[0]+l2[1]*l1[2])/(l1[3]*l2[2]-l2[3]*l1[2])\n",
    "    x = l2[0]+l2[2]*n\n",
    "    y = l2[1]+l2[3]*n\n",
    "    return[x,y]\n",
    "\n",
    "#sur = [[xxx],[yyy]]\n",
    "    #h = [hhh]\n",
    "a = getDir([[0,3,0],[0,0,3]],[1,1,1])\n",
    "print(a)"
   ]
  },
  {
   "cell_type": "code",
   "execution_count": null,
   "metadata": {
    "collapsed": true
   },
   "outputs": [],
   "source": [
    "#use three points and distance from line to find the crossing\n",
    "def findCross(points,d):\n",
    "    #points = [[x1,y1],[2],[3]]\n",
    "    #d = [1,2,3]\n",
    "    #for each pair\n",
    "    pair = [[points],[],[],[],[],[]]\n",
    "    #find the line\n",
    "    #find distance of one other point to this line\n",
    "    #move the line d distancce to the right\n",
    "    #get new distance\n",
    "    #compare the distances, if gets smaller, append larger, left\n",
    "    #append to the line list\n",
    "    #every time a new line is added, find intersection with older ones\n",
    "    #append intersection\n",
    "    #finish all the pair\n",
    "    #average and return the crossing"
   ]
  },
  {
   "cell_type": "code",
   "execution_count": 3,
   "metadata": {},
   "outputs": [
    {
     "name": "stdout",
     "output_type": "stream",
     "text": [
      "(1, 2)\n",
      "(1, 3)\n",
      "(2, 3)\n"
     ]
    }
   ],
   "source": [
    "import itertools\n",
    "\n",
    "stuff = [1, 2, 3]\n",
    "for subset in itertools.combinations(stuff,2):\n",
    "    print(subset)"
   ]
  },
  {
   "cell_type": "code",
   "execution_count": 5,
   "metadata": {},
   "outputs": [
    {
     "name": "stdout",
     "output_type": "stream",
     "text": [
      "[0, 1, 2, 3]\n"
     ]
    }
   ],
   "source": [
    "print(list(range(4)))"
   ]
  },
  {
   "cell_type": "code",
   "execution_count": 16,
   "metadata": {
    "collapsed": true
   },
   "outputs": [],
   "source": [
    "def findindex(num,total):\n",
    "    stuff = list(range(total))\n",
    "    indices = []\n",
    "    for subset in itertools.combinations(stuff,num):\n",
    "        indices.append(list(subset))\n",
    "    return indices"
   ]
  },
  {
   "cell_type": "code",
   "execution_count": 17,
   "metadata": {},
   "outputs": [
    {
     "name": "stdout",
     "output_type": "stream",
     "text": [
      "[[0, 1, 2], [0, 1, 3], [0, 1, 4], [0, 2, 3], [0, 2, 4], [0, 3, 4], [1, 2, 3], [1, 2, 4], [1, 3, 4], [2, 3, 4]]\n"
     ]
    }
   ],
   "source": [
    "print(findindex(3,5))"
   ]
  },
  {
   "cell_type": "code",
   "execution_count": 1,
   "metadata": {},
   "outputs": [
    {
     "name": "stdout",
     "output_type": "stream",
     "text": [
      "1\n"
     ]
    }
   ],
   "source": [
    "def getfirst(num):\n",
    "    return num[0]\n",
    "print(getfirst([1,2]))"
   ]
  },
  {
   "cell_type": "code",
   "execution_count": 1,
   "metadata": {},
   "outputs": [
    {
     "name": "stdout",
     "output_type": "stream",
     "text": [
      "1\n"
     ]
    }
   ],
   "source": [
    "lisya = [1,2,3]\n",
    "a,b,c = lisya\n",
    "print(a)"
   ]
  },
  {
   "cell_type": "code",
   "execution_count": 7,
   "metadata": {},
   "outputs": [
    {
     "name": "stdout",
     "output_type": "stream",
     "text": [
      "[2, 3, 5, 7]\n"
     ]
    }
   ],
   "source": [
    "\n",
    "sortedEn = sorted([3,2,5,7])\n",
    "print(sortedEn)"
   ]
  },
  {
   "cell_type": "code",
   "execution_count": 8,
   "metadata": {},
   "outputs": [
    {
     "ename": "NameError",
     "evalue": "name 'fitEllipse' is not defined",
     "output_type": "error",
     "traceback": [
      "\u001b[0;31m---------------------------------------------------------------------------\u001b[0m",
      "\u001b[0;31mNameError\u001b[0m                                 Traceback (most recent call last)",
      "\u001b[0;32m<ipython-input-8-75ebe50aeba1>\u001b[0m in \u001b[0;36m<module>\u001b[0;34m()\u001b[0m\n\u001b[1;32m      6\u001b[0m \u001b[0my\u001b[0m \u001b[0;34m=\u001b[0m \u001b[0mnp\u001b[0m\u001b[0;34m.\u001b[0m\u001b[0msin\u001b[0m\u001b[0;34m(\u001b[0m\u001b[0mR\u001b[0m\u001b[0;34m)\u001b[0m \u001b[0;34m+\u001b[0m \u001b[0;36m1.\u001b[0m \u001b[0;34m+\u001b[0m \u001b[0;36m0.1\u001b[0m\u001b[0;34m*\u001b[0m\u001b[0mnp\u001b[0m\u001b[0;34m.\u001b[0m\u001b[0mrandom\u001b[0m\u001b[0;34m.\u001b[0m\u001b[0mrand\u001b[0m\u001b[0;34m(\u001b[0m\u001b[0mlen\u001b[0m\u001b[0;34m(\u001b[0m\u001b[0mR\u001b[0m\u001b[0;34m)\u001b[0m\u001b[0;34m)\u001b[0m\u001b[0;34m\u001b[0m\u001b[0m\n\u001b[1;32m      7\u001b[0m \u001b[0;34m\u001b[0m\u001b[0m\n\u001b[0;32m----> 8\u001b[0;31m \u001b[0ma\u001b[0m \u001b[0;34m=\u001b[0m \u001b[0mfitEllipse\u001b[0m\u001b[0;34m(\u001b[0m\u001b[0mx\u001b[0m\u001b[0;34m,\u001b[0m\u001b[0my\u001b[0m\u001b[0;34m)\u001b[0m\u001b[0;34m\u001b[0m\u001b[0m\n\u001b[0m\u001b[1;32m      9\u001b[0m \u001b[0mcenter\u001b[0m \u001b[0;34m=\u001b[0m \u001b[0mellipse_center\u001b[0m\u001b[0;34m(\u001b[0m\u001b[0ma\u001b[0m\u001b[0;34m)\u001b[0m\u001b[0;34m\u001b[0m\u001b[0m\n\u001b[1;32m     10\u001b[0m \u001b[0;31m#phi = ellipse_angle_of_rotation(a)\u001b[0m\u001b[0;34m\u001b[0m\u001b[0;34m\u001b[0m\u001b[0m\n",
      "\u001b[0;31mNameError\u001b[0m: name 'fitEllipse' is not defined"
     ]
    }
   ],
   "source": [
    "import numpy as np\n",
    "\n",
    "arc = 0.8\n",
    "R = np.arange(0,arc*np.pi, 0.01)\n",
    "x = 1.5*np.cos(R) + 2 + 0.1*np.random.rand(len(R))\n",
    "y = np.sin(R) + 1. + 0.1*np.random.rand(len(R))\n",
    "\n",
    "a = fitEllipse(x,y)\n",
    "center = ellipse_center(a)\n",
    "#phi = ellipse_angle_of_rotation(a)\n",
    "phi = ellipse_angle_of_rotation2(a)\n",
    "axes = ellipse_axis_length(a)\n",
    "\n",
    "print(\"center = \",  center)\n",
    "print(\"angle of rotation = \",  phi)\n",
    "print(\"axes = \", axes)"
   ]
  },
  {
   "cell_type": "code",
   "execution_count": 13,
   "metadata": {},
   "outputs": [
    {
     "ename": "TypeError",
     "evalue": "list indices must be integers or slices, not tuple",
     "output_type": "error",
     "traceback": [
      "\u001b[0;31m---------------------------------------------------------------------------\u001b[0m",
      "\u001b[0;31mTypeError\u001b[0m                                 Traceback (most recent call last)",
      "\u001b[0;32m<ipython-input-13-e355d107a9b4>\u001b[0m in \u001b[0;36m<module>\u001b[0;34m()\u001b[0m\n\u001b[1;32m     38\u001b[0m \u001b[0my\u001b[0m \u001b[0;34m=\u001b[0m \u001b[0mnp\u001b[0m\u001b[0;34m.\u001b[0m\u001b[0msin\u001b[0m\u001b[0;34m(\u001b[0m\u001b[0mR\u001b[0m\u001b[0;34m)\u001b[0m \u001b[0;34m+\u001b[0m \u001b[0;36m1.\u001b[0m \u001b[0;34m+\u001b[0m \u001b[0;36m0.1\u001b[0m\u001b[0;34m*\u001b[0m\u001b[0mnp\u001b[0m\u001b[0;34m.\u001b[0m\u001b[0mrandom\u001b[0m\u001b[0;34m.\u001b[0m\u001b[0mrand\u001b[0m\u001b[0;34m(\u001b[0m\u001b[0mlen\u001b[0m\u001b[0;34m(\u001b[0m\u001b[0mR\u001b[0m\u001b[0;34m)\u001b[0m\u001b[0;34m)\u001b[0m\u001b[0;34m\u001b[0m\u001b[0m\n\u001b[1;32m     39\u001b[0m \u001b[0;34m\u001b[0m\u001b[0m\n\u001b[0;32m---> 40\u001b[0;31m \u001b[0ma\u001b[0m \u001b[0;34m=\u001b[0m \u001b[0mfitEllipse\u001b[0m\u001b[0;34m(\u001b[0m\u001b[0mx\u001b[0m\u001b[0;34m,\u001b[0m\u001b[0my\u001b[0m\u001b[0;34m)\u001b[0m\u001b[0;34m\u001b[0m\u001b[0m\n\u001b[0m\u001b[1;32m     41\u001b[0m \u001b[0mcenter\u001b[0m \u001b[0;34m=\u001b[0m \u001b[0mellipse_center\u001b[0m\u001b[0;34m(\u001b[0m\u001b[0ma\u001b[0m\u001b[0;34m)\u001b[0m\u001b[0;34m\u001b[0m\u001b[0m\n\u001b[1;32m     42\u001b[0m \u001b[0;34m\u001b[0m\u001b[0m\n",
      "\u001b[0;32m<ipython-input-13-e355d107a9b4>\u001b[0m in \u001b[0;36mfitEllipse\u001b[0;34m(x, y)\u001b[0m\n\u001b[1;32m      4\u001b[0m \u001b[0;34m\u001b[0m\u001b[0m\n\u001b[1;32m      5\u001b[0m \u001b[0;32mdef\u001b[0m \u001b[0mfitEllipse\u001b[0m\u001b[0;34m(\u001b[0m\u001b[0mx\u001b[0m\u001b[0;34m,\u001b[0m\u001b[0my\u001b[0m\u001b[0;34m)\u001b[0m\u001b[0;34m:\u001b[0m\u001b[0;34m\u001b[0m\u001b[0m\n\u001b[0;32m----> 6\u001b[0;31m     \u001b[0mx\u001b[0m \u001b[0;34m=\u001b[0m \u001b[0mx\u001b[0m\u001b[0;34m[\u001b[0m\u001b[0;34m:\u001b[0m\u001b[0;34m,\u001b[0m\u001b[0mnp\u001b[0m\u001b[0;34m.\u001b[0m\u001b[0mnewaxis\u001b[0m\u001b[0;34m]\u001b[0m\u001b[0;34m\u001b[0m\u001b[0m\n\u001b[0m\u001b[1;32m      7\u001b[0m     \u001b[0my\u001b[0m \u001b[0;34m=\u001b[0m \u001b[0my\u001b[0m\u001b[0;34m[\u001b[0m\u001b[0;34m:\u001b[0m\u001b[0;34m,\u001b[0m\u001b[0mnp\u001b[0m\u001b[0;34m.\u001b[0m\u001b[0mnewaxis\u001b[0m\u001b[0;34m]\u001b[0m\u001b[0;34m\u001b[0m\u001b[0m\n\u001b[1;32m      8\u001b[0m     \u001b[0mD\u001b[0m \u001b[0;34m=\u001b[0m  \u001b[0mnp\u001b[0m\u001b[0;34m.\u001b[0m\u001b[0mhstack\u001b[0m\u001b[0;34m(\u001b[0m\u001b[0;34m(\u001b[0m\u001b[0mx\u001b[0m\u001b[0;34m*\u001b[0m\u001b[0mx\u001b[0m\u001b[0;34m,\u001b[0m \u001b[0mx\u001b[0m\u001b[0;34m*\u001b[0m\u001b[0my\u001b[0m\u001b[0;34m,\u001b[0m \u001b[0my\u001b[0m\u001b[0;34m*\u001b[0m\u001b[0my\u001b[0m\u001b[0;34m,\u001b[0m \u001b[0mx\u001b[0m\u001b[0;34m,\u001b[0m \u001b[0my\u001b[0m\u001b[0;34m,\u001b[0m \u001b[0mnp\u001b[0m\u001b[0;34m.\u001b[0m\u001b[0mones_like\u001b[0m\u001b[0;34m(\u001b[0m\u001b[0mx\u001b[0m\u001b[0;34m)\u001b[0m\u001b[0;34m)\u001b[0m\u001b[0;34m)\u001b[0m\u001b[0;34m\u001b[0m\u001b[0m\n",
      "\u001b[0;31mTypeError\u001b[0m: list indices must be integers or slices, not tuple"
     ]
    }
   ],
   "source": [
    "# from http://nicky.vanforeest.com/misc/fitEllipse/fitEllipse.html\n",
    "import numpy as np\n",
    "from numpy.linalg import eig, inv\n",
    "\n",
    "def fitEllipse(x,y):\n",
    "    x = x[:,np.newaxis]\n",
    "    y = y[:,np.newaxis]\n",
    "    D =  np.hstack((x*x, x*y, y*y, x, y, np.ones_like(x)))\n",
    "    S = np.dot(D.T,D)\n",
    "    C = np.zeros([6,6])\n",
    "    C[0,2] = C[2,0] = 2; C[1,1] = -1\n",
    "    E, V =  eig(np.dot(inv(S), C))\n",
    "    n = np.argmax(np.abs(E))\n",
    "    a = V[:,n]\n",
    "    return a\n",
    "\n",
    "def ellipse_center(a):\n",
    "    b,c,d,f,g,a = a[1]/2, a[2], a[3]/2, a[4]/2, a[5], a[0]\n",
    "    num = b*b-a*c\n",
    "    x0=(c*d-b*f)/num\n",
    "    y0=(a*f-b*d)/num\n",
    "    return np.array([x0,y0])\n",
    "\n",
    "def ellipse_axis_length( a ):\n",
    "    b,c,d,f,g,a = a[1]/2, a[2], a[3]/2, a[4]/2, a[5], a[0]\n",
    "    up = 2*(a*f*f+c*d*d+g*b*b-2*b*d*f-a*c*g)\n",
    "    down1=(b*b-a*c)*( (c-a)*np.sqrt(1+4*b*b/((a-c)*(a-c)))-(c+a))\n",
    "    down2=(b*b-a*c)*( (a-c)*np.sqrt(1+4*b*b/((a-c)*(a-c)))-(c+a))\n",
    "    res1=np.sqrt(up/down1)\n",
    "    res2=np.sqrt(up/down2)\n",
    "    return np.array([res1, res2])\n",
    "\n",
    "\n",
    "\n",
    "arc = 0.8\n",
    "R = np.arange(0,arc*np.pi, 0.01)\n",
    "x = [1,2,3,4]\n",
    "y = [2,4,2,1]\n",
    "\n",
    "a = fitEllipse(x,y)\n",
    "center = ellipse_center(a)\n",
    "\n",
    "axes = ellipse_axis_length(a)\n",
    "\n",
    "print(\"center = \",  center)\n",
    "\n",
    "print(\"axes = \", axes)\n",
    "\n",
    "\n"
   ]
  },
  {
   "cell_type": "code",
   "execution_count": 14,
   "metadata": {},
   "outputs": [
    {
     "name": "stdout",
     "output_type": "stream",
     "text": [
      "[2, 3, 4, 5]\n"
     ]
    }
   ],
   "source": [
    "y = np.sin(R) + 1. + 0.1*np.random.rand(len(R))\n",
    "#print(y)\n",
    "print([2,3,4,5])"
   ]
  },
  {
   "cell_type": "code",
   "execution_count": 15,
   "metadata": {},
   "outputs": [
    {
     "data": {
      "text/plain": [
       "1.0"
      ]
     },
     "execution_count": 15,
     "metadata": {},
     "output_type": "execute_result"
    }
   ],
   "source": [
    "math.log(math.e)"
   ]
  },
  {
   "cell_type": "code",
   "execution_count": 2,
   "metadata": {},
   "outputs": [
    {
     "name": "stdout",
     "output_type": "stream",
     "text": [
      "1001\n"
     ]
    }
   ],
   "source": [
    "import BraidFuncM as BF\n",
    "fileName = \"jetPO1_360120.txt\"\n",
    "wholeList = BF.openN(fileName)\n",
    "print(len(wholeList))"
   ]
  },
  {
   "cell_type": "code",
   "execution_count": 5,
   "metadata": {},
   "outputs": [
    {
     "name": "stdout",
     "output_type": "stream",
     "text": [
      "[0, '-1.77482695674', '2.80694069125', '-2.81788704702', '0.643260745641', '1.52328464595', '2.27218788119', '0.414366473454', '2.74555365599', '-0.574653615401', '3.12683167823', '-1.44897150517', '3.13954848148', '2.67980386811', '-1.91826904454', '1.42953970393', '2.657458263', '2.49835593643', '-2.29864768586', '3.31300500524', '-0.0637356721492', '-0.227677151741', '3.23869678335', '-2.48459247012', '2.40536828887', '1.90286337116', '-2.63963123341', '2.75273293705', '-2.09308789345', '3.59366335195', '-0.411671533392', '3.30530144254', '0.311261577405', '-3.15574262855', '-0.192208731361', '-3.13799443741', '-0.531867650278', '-1.95556372534', '-2.41664021812', '-1.12669041697', '-2.8205103927', '-3.17153869779', '0.971343006082', '3.66789501066', '-0.0650333477642', '3.13801293524', '0.799717836144', '-3.18726619852', '3.7859952621', '2.20071710601', '-2.90418125677', '-3.6803210326', '-0.984759160143', '4.40478822614', '-1.3469014206', '4.75728779023', '-1.28802831775', '4.58427882594', '-0.575848842226', '0.112700411076', '-3.45267459958', '4.81005464676', '-0.971206363707', '4.89830311375', '-0.669749960407', '-2.85862925471', '3.59387643871', '-4.01097535215', '1.31849030696', '0.755780645714', '-3.49458578201', '0.933504102098', '-3.42604760618', '-3.62625062594', '-1.68330368165', '2.77998181639', '1.7501297348', '-5.62802603404', '1.63586923128', '-3.67124485653', '2.20097944353', '-2.59787749714', '-3.35004175169', '5.50176260828', '0.120033788627', '2.35316488127', '2.30588664298', '-3.83419403146', '1.8706797259', '-2.35353695139', '-3.54643253964', '4.67870973575', '0.15055088173', '2.38787324353', '2.68360318796', '-3.08016304023', '-3.50762903103', '-2.35382430103', '-3.87529566607', '4.73086426395', '0.587227663213', '-2.49602077841', '-3.98420676851', '-2.54213266827', '4.6243225909', '-3.34280834456', '4.59291743843', '-4.13308690779', '1.50347618905', '-4.19437972287', '0.415607935918', '5.21006658468', '-1.9998642232', '5.89772897808', '-1.44475376316', '4.54704313072', '0.821372740305', '-4.37871511597', '2.54783123653', '-1.648394186', '4.5780316293', '-0.934096003355', '-4.0534586316', '6.56326978633', '-0.544075214293', '-4.52204170517', '4.25704042761', '-4.54550556955', '2.9260164635', '-4.35417158322', '2.68727783919', '4.27481097713', '-2.62781108735', '5.09657097131', '0.80450472045', '-1.27228661983', '4.54701863879', '-4.73600442771', '4.13667698493', '-2.17543779951', '-4.27537053903', '4.13394571914', '-2.72514256149', '6.7988435836', '0.0767903768054', '6.3886443904', '-0.17812130493', '-4.93531643804', '4.00178334107', '-2.2371098434', '-4.44537586925', '-0.778983999644', '-4.01112655503', '3.99732598119', '-2.8216642006', '-0.992312945218', '4.52230387453', '6.87707509005', '0.445728721291', '-0.59392529218', '-4.19717432043', '0.542905330997', '3.80314383774', '-4.40903232069', '1.07099533752', '-3.73295951932', '5.10311487742', '-4.31777073943', '4.97880205072', '-4.73380953771', '0.595629486153', '-0.566732844472', '-4.39402108817', '6.41865781295', '-1.64943494212', '6.84562969237', '-1.08877968093', '-5.78117743761', '3.05366299877', '-4.92787536954', '1.82043929915', '-0.354274267633', '-4.33802842767', '3.37139598642', '-3.29623170966', '3.91193828915', '1.77360296856', '-4.72637202978', '2.41726684911', '-4.23530935108', '-2.81505195809', '-3.52714757882', '-4.05303748543', '-2.83773936919', '-4.03775875273', '-5.1065093848', '4.62524156794', '5.66433587447', '-2.32283216475', '-0.302566630438', '4.46413255696', '-5.24916213943', '4.53209444762', '-5.11379526078', '1.67783771913', '-1.56022415081', '-4.75894949677', '5.49324784569', '-2.44986398228', '6.74822568273', '2.14509234379', '-2.47654389779', '5.13417422372', '7.35302631694', '0.174266881979', '0.408153118695', '4.23577882162', '-4.54006929764', '-2.33726349102', '6.38710817395', '2.72113894776', '3.68751355968', '1.95139115993', '3.87715455919', '2.06016466331', '-6.13318882224', '2.22661726466', '2.96145315713', '-3.63479706718', '-4.03728026409', '-3.89695565354', '-3.16160668137', '-4.89710036789', '0.155728471604', '4.43524915278', '-4.3357410524', '-3.43739493233', '-2.73301805781', '-5.21998223823', '6.39099054646', '2.95433368271', '-5.99281507489', '3.83706417111', '4.54599889657', '-3.125241671', '-4.55527503845', '-3.06974981224', '-2.23055165854', '-5.49051460753', '4.64737041031', '2.82877068735', '3.87095868532', '2.76217795216', '0.350049124041', '4.42693959957', '-6.27704407703', '1.19190393669', '2.44877153708', '-4.07216366142', '4.6130307463', '2.48872138109', '4.23838902964', '1.95560636425', '-4.77046199283', '-2.69718156958', '-1.64531849009', '-5.68146888957', '4.27931244814', '2.53420916474', '4.13973150289', '2.32226370653', '-4.84927118244', '-2.55979708797', '-1.409103278', '-5.7244474097', '4.26602654175', '2.36741743884', '0.463045637791', '4.4233661984', '-6.25267137892', '0.73730687693', '2.21934628902', '-4.26541927379', '6.02367900893', '3.46919534004', '-5.11081716352', '-2.10438511782', '-0.662837568011', '-5.74004007525', '-5.45430730255', '-1.49757609237', '0.260314470335', '-5.51636618594', '-5.6791725607', '-1.07069612894', '0.689850762433', '-5.32443847648', '0.972305317777', '-5.16978709114', '0.709632641249', '4.41897599764', '5.56382768814', '3.9130438496', '-4.31026142947', '-4.80922198769', '-3.44961768844', '-5.64447994082', '-4.72972905722', '-4.26181186892', '-3.00094789564', '-5.94960948099', '-4.88658018057', '-4.03200949598', '-2.76474270609', '-6.07970255895', '-0.248447576418', '4.99007021987', '-1.16355733043', '6.30095748147', '-5.07587224735', '-3.73735009312', '-2.46743598092', '-6.21594840577', '7.20147104221', '2.45914999889', '-5.24135574189', '-3.46540287717', '-2.18749852157', '-6.31778382796', '-5.41284169759', '-3.17091786351', '-1.87642464106', '-6.40231366082', '4.24260666438', '-4.20684158142', '-6.88972359833', '1.41666407052', '-4.80731773072', '-4.70239679214', '-4.14280899224', '-5.49545753366', '2.37375052317', '-4.87431827728', '0.0478316160413', '4.9750126854', '-5.67801065575', '-2.69272938108', '-5.15633078638', '-4.17125593973', '-3.68204119749', '-5.90030942988', '-1.37718642496', '-6.47757067556', '7.06094566079', '2.81076950576', '-3.87174700372', '6.821040113', '-5.82431012783', '-2.41702057817', '-5.38143426343', '-3.7916183322', '-3.3573334718', '-6.13035600727', '-1.06789515953', '-6.48779091627', '4.253505449', '-5.00953841427', '0.228514318292', '7.3147852417', '-6.86719534439', '0.567787340856', '1.74222900139', '-5.36235926477', '-6.78507732231', '0.0485542008772', '-6.23311571634', '-1.58212367779', '-0.0976759583546', '-6.3410358117', '1.16867790695', '-5.75268141338', '1.75075948702', '4.45116643352', '3.84131413846', '4.56429660029', '-0.206182156125', '7.77277891023', '0.241486933838', '5.56697848034', '-0.35803105982', '7.93781892435', '5.15123844952', '-5.78944662904', '-0.380833259303', '5.78485703881', '-6.88604614101', '-2.32553011471', '7.39138848623', '-3.4076746761', '3.26424885512', '-5.5420819165', '4.66632220903', '-6.02193371045', '0.836105266084', '6.40688427654', '3.26578710457', '-5.64385689154', '4.007975585', '-5.35952266789', '-0.309241077994', '7.42593209645', '-5.95873853864', '-4.25038494286', '2.29994864525', '4.98968976804', '5.52567762121', '4.56991581912', '3.9036878032', '-5.32843028766', '2.84632990558', '-6.37870277322', '4.99921370136', '-5.65113065975', '3.10218751939', '5.04525663276', '1.20057257201', '6.40453632598', '0.876480838281', '7.66256530245', '-3.88148637775', '7.3852280099', '-4.62651187985', '7.02055127465', '3.50791268562', '-5.77941462609', '4.77284213425', '4.90441082969', '0.616259568839', '7.40755993572', '-5.40179977776', '-5.48180188154', '3.10472181038', '-6.16166037413', '3.3008345818', '-6.14860482919', '7.70580518005', '-3.5653259773', '0.481237948567', '7.51754405825', '0.860914942027', '7.5262927378', '1.42395257182', '-6.60364564731', '0.08960070784', '7.44252394145', '-7.6561971835', '0.0434510638459', '1.05270083451', '7.31808447896', '2.54422614089', '-7.00674821588', '-3.2413260198', '7.78841577801', '3.35775130378', '-5.74816981214', '2.36496407037', '6.90487292509', '-1.53960358244', '8.27823669783', '-7.86869758996', '1.24463283463', '3.12600586799', '-6.91593319443', '3.86034681828', '-7.00851410002', '1.91183268404', '5.2711522042', '-7.71956724588', '-1.61703284359', '-7.02106323251', '-4.03573228107', '-7.64655592269', '-2.06916880411', '-7.62421415724', '-2.63291624506', '-7.0995984558', '-3.63277507662', '-3.45886936709', '-7.39691118886', '8.61169332499', '-1.44638772564', '-1.26651602931', '-7.82626014459', '3.02080150401', '-7.31557696944', '6.68688239442', '4.34802032672', '7.98387483533', '1.81041222099', '-1.33654745925', '-7.9987025089', '8.92175935485', '-0.157529606788', '-1.12470900545', '-8.12353404537', '6.14902444592', '5.26931636848', '3.61652176036', '-8.18044219904', '8.38621238501', '-3.52538454679\\n']\n"
     ]
    }
   ],
   "source": [
    "l = wholeList[15]\n",
    "#l.pop(0)\n",
    "print(l)"
   ]
  },
  {
   "cell_type": "code",
   "execution_count": 29,
   "metadata": {},
   "outputs": [
    {
     "data": {
      "text/plain": [
       "3"
      ]
     },
     "execution_count": 29,
     "metadata": {},
     "output_type": "execute_result"
    }
   ],
   "source": [
    "math.floor(3.1)"
   ]
  },
  {
   "cell_type": "code",
   "execution_count": 2,
   "metadata": {},
   "outputs": [
    {
     "name": "stdout",
     "output_type": "stream",
     "text": [
      "1\n"
     ]
    }
   ],
   "source": [
    "print(round(0.7))"
   ]
  },
  {
   "cell_type": "code",
   "execution_count": null,
   "metadata": {
    "collapsed": true
   },
   "outputs": [],
   "source": []
  }
 ],
 "metadata": {
  "anaconda-cloud": {},
  "kernelspec": {
   "display_name": "Python 3",
   "language": "python",
   "name": "python3"
  },
  "language_info": {
   "codemirror_mode": {
    "name": "ipython",
    "version": 3
   },
   "file_extension": ".py",
   "mimetype": "text/x-python",
   "name": "python",
   "nbconvert_exporter": "python",
   "pygments_lexer": "ipython3",
   "version": "3.6.1"
  }
 },
 "nbformat": 4,
 "nbformat_minor": 1
}
